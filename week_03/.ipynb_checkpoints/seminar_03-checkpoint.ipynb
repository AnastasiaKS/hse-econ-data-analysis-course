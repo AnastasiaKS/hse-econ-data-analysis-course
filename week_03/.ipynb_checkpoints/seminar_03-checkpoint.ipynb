{
 "cells": [
  {
   "cell_type": "markdown",
   "metadata": {},
   "source": [
    "# Baseline check"
   ]
  },
  {
   "cell_type": "markdown",
   "metadata": {},
   "source": [
    "1. Если на вход программы приходит четное число, выведите \"тик\", а если нечетное \"так\".\n",
    "2. Напишите игру FizzBuzz. На вход - заданное число, до которого нужно \"считать\".\n",
    "3. Считайте из любого текстового файла 3 первых строки. \n",
    "4. Напишите программу, которая принимает на вход числа, пока ей не прислать слово \"все\"; после этого выводит сумму чисел.\n",
    "\n",
    "Доп. задача. Бинарный калькулятор. Написать функцию, на вход принимающую строку состоящую из двух чисел и одним из символов +, -, *, /, **. На выходе - результат этой операции."
   ]
  },
  {
   "cell_type": "markdown",
   "metadata": {},
   "source": [
    "# Разбор домашней работы"
   ]
  },
  {
   "cell_type": "code",
   "execution_count": 6,
   "metadata": {},
   "outputs": [],
   "source": [
    "import requests"
   ]
  },
  {
   "cell_type": "code",
   "execution_count": 40,
   "metadata": {},
   "outputs": [],
   "source": [
    "url = 'https://lenta.ru'\n",
    "response = requests.get(url)"
   ]
  },
  {
   "cell_type": "code",
   "execution_count": 41,
   "metadata": {},
   "outputs": [],
   "source": [
    "def saveImagebyUrl(url, name):\n",
    "    response = requests.get(url)\n",
    "    with open('{}.jpg'.format(name), 'wb') as out_file:\n",
    "        out_file.write(response.content)\n",
    "    del response"
   ]
  },
  {
   "cell_type": "markdown",
   "metadata": {},
   "source": [
    "Также полезно пользоваться такой конструкцией:"
   ]
  },
  {
   "cell_type": "code",
   "execution_count": 61,
   "metadata": {},
   "outputs": [],
   "source": [
    "if response.status_code == 200:\n",
    "    with open(\"new_sample.jpg\", 'wb') as f:\n",
    "        f.write(response.content)"
   ]
  },
  {
   "cell_type": "code",
   "execution_count": null,
   "metadata": {},
   "outputs": [],
   "source": [
    "i = 0\n",
    "for token in response.text.split():\n",
    "    if 'jpg' in token:\n",
    "        url = token[5:-1]\n",
    "        print(url)\n",
    "        name = 'lenta {}'.format(i)\n",
    "        i+=1\n",
    "        saveImagebyUrl(url, name)"
   ]
  },
  {
   "cell_type": "code",
   "execution_count": 43,
   "metadata": {},
   "outputs": [],
   "source": [
    "url = 'http://hpmor.ru/book/1/1/'\n",
    "response = requests.get(url)\n",
    "response.encoding = 'utf-8'"
   ]
  },
  {
   "cell_type": "code",
   "execution_count": 44,
   "metadata": {},
   "outputs": [],
   "source": [
    "text = response.text"
   ]
  },
  {
   "cell_type": "code",
   "execution_count": 19,
   "metadata": {},
   "outputs": [
    {
     "data": {
      "text/plain": [
       "5484"
      ]
     },
     "execution_count": 19,
     "metadata": {},
     "output_type": "execute_result"
    }
   ],
   "source": [
    "text.find('<p><em>')"
   ]
  },
  {
   "cell_type": "code",
   "execution_count": 21,
   "metadata": {},
   "outputs": [
    {
     "data": {
      "text/plain": [
       "21830"
      ]
     },
     "execution_count": 21,
     "metadata": {},
     "output_type": "execute_result"
    }
   ],
   "source": [
    "text.rfind('<div class=\"ph3 pt2 pb4 mt2 bg-moon-gray pa2\">')"
   ]
  },
  {
   "cell_type": "code",
   "execution_count": 23,
   "metadata": {},
   "outputs": [],
   "source": [
    "cropped_text = text[5484:21830]"
   ]
  },
  {
   "cell_type": "code",
   "execution_count": 32,
   "metadata": {},
   "outputs": [],
   "source": [
    "for elem in ['<p>', '</p>', '<em>', '</em>', '</p>\\n\\n<p>', '\\n\\n', '&hellip', '<br />']:\n",
    "    cropped_text = cropped_text.replace(elem, ' ')"
   ]
  },
  {
   "cell_type": "code",
   "execution_count": null,
   "metadata": {},
   "outputs": [],
   "source": [
    "cropped_text"
   ]
  },
  {
   "cell_type": "code",
   "execution_count": 38,
   "metadata": {},
   "outputs": [
    {
     "data": {
      "text/plain": [
       "[('—', 101),\n",
       " ('в', 55),\n",
       " ('и', 48),\n",
       " ('не', 47),\n",
       " ('что', 37),\n",
       " ('я', 30),\n",
       " ('на', 26),\n",
       " ('с', 22),\n",
       " ('Гарри', 21),\n",
       " ('это', 17),\n",
       " (';', 16),\n",
       " ('Я', 16),\n",
       " ('но', 15),\n",
       " ('он', 15),\n",
       " ('из', 15),\n",
       " ('а', 14),\n",
       " ('её', 13),\n",
       " ('она', 11),\n",
       " ('по', 11),\n",
       " ('чтобы', 11)]"
      ]
     },
     "execution_count": 38,
     "metadata": {},
     "output_type": "execute_result"
    }
   ],
   "source": [
    "from collections import Counter\n",
    "Counter(cropped_text.split()).most_common(20)"
   ]
  },
  {
   "cell_type": "markdown",
   "metadata": {},
   "source": [
    "## Beautiful soup"
   ]
  },
  {
   "cell_type": "code",
   "execution_count": 63,
   "metadata": {},
   "outputs": [
    {
     "name": "stdout",
     "output_type": "stream",
     "text": [
      "Requirement already satisfied: beautifulsoup4 in /anaconda3/lib/python3.6/site-packages (4.6.0)\n",
      "\u001b[31mdistributed 1.21.8 requires msgpack, which is not installed.\u001b[0m\n",
      "\u001b[33mYou are using pip version 10.0.1, however version 18.1 is available.\n",
      "You should consider upgrading via the 'pip install --upgrade pip' command.\u001b[0m\n"
     ]
    }
   ],
   "source": [
    "!pip install beautifulsoup4"
   ]
  },
  {
   "cell_type": "code",
   "execution_count": 4,
   "metadata": {},
   "outputs": [],
   "source": [
    "from bs4 import BeautifulSoup\n",
    "import urllib"
   ]
  },
  {
   "cell_type": "code",
   "execution_count": 7,
   "metadata": {},
   "outputs": [],
   "source": [
    "response = requests.get('http://az.lib.ru/t/tolstoj_lew_nikolaewich/text_0060.shtml')"
   ]
  },
  {
   "cell_type": "code",
   "execution_count": 8,
   "metadata": {},
   "outputs": [],
   "source": [
    "soup = BeautifulSoup(response.text, 'html.parser')\n",
    "# Иногда возникают проблемы с кодировкой и может быть полезно передавать response.content вместо response.text."
   ]
  },
  {
   "cell_type": "code",
   "execution_count": 13,
   "metadata": {},
   "outputs": [
    {
     "name": "stdout",
     "output_type": "stream",
     "text": [
      "<title>Lib.ru/Классика: Толстой Лев Николаевич. Война и мир. Том 3</title>\n"
     ]
    }
   ],
   "source": [
    "# выводим title страницы - то, что между тегами <title></title>\n",
    "print(soup.title)"
   ]
  },
  {
   "cell_type": "code",
   "execution_count": 14,
   "metadata": {},
   "outputs": [
    {
     "data": {
      "text/plain": [
       "[<title>Lib.ru/Классика: Толстой Лев Николаевич. Война и мир. Том 3</title>]"
      ]
     },
     "execution_count": 14,
     "metadata": {},
     "output_type": "execute_result"
    }
   ],
   "source": [
    "# то же самое, но немного другим способом\n",
    "soup.findAll('title')"
   ]
  },
  {
   "cell_type": "code",
   "execution_count": 15,
   "metadata": {},
   "outputs": [
    {
     "data": {
      "text/plain": [
       "[<a href=\"/t/tolstoj_lew_nikolaewich/\">Толстой Лев Николаевич</a>,\n",
       " <a href=\"/\"><font color=\"#555555\" size=\"-1\"><b>Lib.ru/Классика:</b></font></a>,\n",
       " <a href=\"/cgi-bin/login\">Регистрация</a>,\n",
       " <a href=\"/cgi-bin/seek\">Найти</a>,\n",
       " <a href=\"/rating/top40/\">Рейтинги</a>,\n",
       " <a href=\"/rating/comment/\">Обсуждения</a>,\n",
       " <a href=\"/long.shtml\">Новинки</a>,\n",
       " <a href=\"/janr/index_janr_time23-1.shtml\">Обзоры</a>,\n",
       " <a href=\"/i/info/\">Помощь</a>,\n",
       " <a href=\"/comment/t/tolstoj_lew_nikolaewich/text_0060\">Комментарии: 3, последний от 05/03/2018.</a>]"
      ]
     },
     "execution_count": 15,
     "metadata": {},
     "output_type": "execute_result"
    }
   ],
   "source": [
    "# поиск всего на страничке под html-тегом <a></a>\n",
    "soup.findAll('a')[:10]"
   ]
  },
  {
   "cell_type": "code",
   "execution_count": 80,
   "metadata": {},
   "outputs": [],
   "source": [
    "#response.text[:10000]"
   ]
  },
  {
   "cell_type": "code",
   "execution_count": 83,
   "metadata": {},
   "outputs": [],
   "source": [
    "#способ получить текст (убирает лишние непечатные символы, но не все) \n",
    "# хорошо работает для простых страниц\n",
    "# выводим срез 10000 символов, чтобы было не так тяжело\n",
    "\n",
    "#print(soup.get_text()[:1000])"
   ]
  },
  {
   "cell_type": "code",
   "execution_count": 73,
   "metadata": {},
   "outputs": [],
   "source": [
    "response = requests.get('https://ru.wikipedia.org/wiki/Владимир_Высоцкий_в_кино')\n",
    "soup = BeautifulSoup(response.text, 'html.parser')"
   ]
  },
  {
   "cell_type": "code",
   "execution_count": 76,
   "metadata": {},
   "outputs": [],
   "source": [
    "#print(soup.prettify()[:1000])"
   ]
  },
  {
   "cell_type": "markdown",
   "metadata": {},
   "source": [
    "# Повторим методы строк"
   ]
  },
  {
   "cell_type": "markdown",
   "metadata": {},
   "source": [
    "Есть методы для проверки строки (текстовой переменной):"
   ]
  },
  {
   "cell_type": "code",
   "execution_count": 47,
   "metadata": {},
   "outputs": [
    {
     "data": {
      "text/plain": [
       "False"
      ]
     },
     "execution_count": 47,
     "metadata": {},
     "output_type": "execute_result"
    }
   ],
   "source": [
    "'I have 3 apples'.isdigit()"
   ]
  },
  {
   "cell_type": "code",
   "execution_count": 48,
   "metadata": {},
   "outputs": [
    {
     "data": {
      "text/plain": [
       "True"
      ]
     },
     "execution_count": 48,
     "metadata": {},
     "output_type": "execute_result"
    }
   ],
   "source": [
    "'only_letters'.isalpha()"
   ]
  },
  {
   "cell_type": "code",
   "execution_count": 49,
   "metadata": {},
   "outputs": [
    {
     "data": {
      "text/plain": [
       "True"
      ]
     },
     "execution_count": 49,
     "metadata": {},
     "output_type": "execute_result"
    }
   ],
   "source": [
    "'5littlepigs'.isalnum()"
   ]
  },
  {
   "cell_type": "code",
   "execution_count": 50,
   "metadata": {},
   "outputs": [
    {
     "data": {
      "text/plain": [
       "True"
      ]
     },
     "execution_count": 50,
     "metadata": {},
     "output_type": "execute_result"
    }
   ],
   "source": [
    "'kate'.islower()"
   ]
  },
  {
   "cell_type": "code",
   "execution_count": 51,
   "metadata": {},
   "outputs": [
    {
     "data": {
      "text/plain": [
       "False"
      ]
     },
     "execution_count": 51,
     "metadata": {},
     "output_type": "execute_result"
    }
   ],
   "source": [
    "'wOrd'.isupper()"
   ]
  },
  {
   "cell_type": "markdown",
   "metadata": {},
   "source": [
    "Есть методы для преобразования строки:"
   ]
  },
  {
   "cell_type": "code",
   "execution_count": 54,
   "metadata": {},
   "outputs": [],
   "source": [
    "s1 = '    KiTten '"
   ]
  },
  {
   "cell_type": "code",
   "execution_count": 55,
   "metadata": {},
   "outputs": [
    {
     "data": {
      "text/plain": [
       "'kitten'"
      ]
     },
     "execution_count": 55,
     "metadata": {},
     "output_type": "execute_result"
    }
   ],
   "source": [
    "s1.lower().strip()"
   ]
  },
  {
   "cell_type": "markdown",
   "metadata": {},
   "source": [
    "# Блиц"
   ]
  },
  {
   "cell_type": "markdown",
   "metadata": {},
   "source": [
    "1. (1 балл) Скачать html-страницу с книгой \"Колыбель для кошки\" отсюда http://lib.ru/INOFANT/WONNEGUT/cat.txt\n",
    "   Вывести на печать без \"шапки\" html-разметки\n",
    "2. (3 балла) Нормализовать слова, удалить основные знаки препинания и вывести 20 самых часто встречающихся слов, больше 20 букв.\n",
    "3. (3 балла) Определить, сколько чисел встречается в тексте, вывести количество и сумму.\n",
    "\n",
    "Доп. задача:\n",
    "    Определить количество значимых написаний с заглавной буквы в произведении. Определить, сколько знаков препинания содержит текст."
   ]
  },
  {
   "cell_type": "code",
   "execution_count": 89,
   "metadata": {},
   "outputs": [],
   "source": [
    "url = 'http://lib.ru/INOFANT/WONNEGUT/cat.txt'\n",
    "response = requests.get(url)"
   ]
  },
  {
   "cell_type": "code",
   "execution_count": 90,
   "metadata": {},
   "outputs": [],
   "source": [
    "soup = BeautifulSoup(response.text, 'html.parser')"
   ]
  },
  {
   "cell_type": "code",
   "execution_count": 92,
   "metadata": {},
   "outputs": [],
   "source": [
    "myText = soup.text"
   ]
  },
  {
   "cell_type": "code",
   "execution_count": 105,
   "metadata": {},
   "outputs": [],
   "source": [
    "for sym in \".?!,()/\\\"-*\":\n",
    "    myText = myText.replace(sym, ' ')\n",
    "myText = myText.lower()"
   ]
  },
  {
   "cell_type": "code",
   "execution_count": null,
   "metadata": {},
   "outputs": [],
   "source": [
    "print(myText)"
   ]
  },
  {
   "cell_type": "code",
   "execution_count": 110,
   "metadata": {},
   "outputs": [],
   "source": [
    "top_words = Counter(myText.split()).most_common()"
   ]
  },
  {
   "cell_type": "markdown",
   "metadata": {},
   "source": [
    "Фильтрацию можно обеспечить в частности так:"
   ]
  },
  {
   "cell_type": "code",
   "execution_count": null,
   "metadata": {},
   "outputs": [],
   "source": [
    "list(filter(lambda x: len(x[0]) > 3, top_words))"
   ]
  },
  {
   "cell_type": "markdown",
   "metadata": {},
   "source": [
    "## Домашнее задание"
   ]
  },
  {
   "cell_type": "markdown",
   "metadata": {},
   "source": [
    "Домашняя работа в этот раз состоит из 2 частей - базовый блок задач и основной блок задач.\n",
    "\n",
    "<b>Базовый блок задач (4 балла):</b>\n",
    "- точно не нужно делать тем, кто все сдал на семинаре\n",
    "- обязателен для тех, кто не сдал на семинаре первые 4 задачи (базовый блиц)\n",
    "- остальные - по желанию\n",
    "\n",
    "0. Обязательно освоить конструкции if, while, for в синтаксисе python; обязательно научиться писать в файл (google + предыдущие семинары + предыдущий курс вам в помощь)\n",
    "\n",
    "1.\n",
    "Вольный перевод:\n",
    "У нас есть 2 обезьянки, a и b, и два параметра a_smile и b_smile, которые показывают, улыбается ли какая-то из обезьянок. (если a_smile = True то обезьянка а улыбается, аналогично для b). Мы знаем, что нас ждут проблемы, если либо обе обезьянки улыбаются, либо ни одна из них не улыбается.\n",
    "\n",
    "monkey_case(True, True) → True\n",
    "monkey_case(False, False) → True\n",
    "monkey_case(True, False) → False\n",
    "\n",
    "Напишите функцию, которая возвращает True, если у нас есть проблемы и False, если неь\n",
    "\n",
    "2.Дана строка и положительное число N, выведите склеенную N раз эту строку.\n",
    "\n",
    "\n",
    "string_times('Hi', 2) → 'HiHi'\n",
    "string_times('Hi', 3) → 'HiHiHi'\n",
    "string_times('Hi', 1) → 'Hi'\n",
    "\n",
    "3. Напишите программу \"Купи слона\"\n",
    "На вход ей дается любая фраза X, а она должна отвечать \"Все говорят Х а ты купи слона\", и затем запрашивать еще одну фразу (написать нужно через while). Заканчивать работу должна программа по фразе \"всё!\"\n",
    "\n",
    "\n",
    "<b>Основной блок:</b>\n",
    "\n",
    "1.(4 балла) Взять страницу википедии https://ru.wikipedia.org/wiki/Всемирная_библиотека_(Норвежский_книжный_клуб) \n",
    "На ней найти все внутренние ссылки. Для каждой внутренней ссылки посчитать длину текста по ссылке (открыть страницу, текст получить через get_text из beautifulSoup, служебные символы не обязательно удалять, длину считаем через len). Для каждой страницы вывести название страницы (через поиск тэга title их beautifulSoup) и длину текста.\n",
    "\n",
    "2.(6 баллов) На вход функции подается ссылка на статью википедии и число N. Требуется на заданной странице найти ссылку на первую по счету статью википедии и перейти по ней (вывести название на печать). Далее тоже самое проделать N раз, уже для новой заданной страницы."
   ]
  },
  {
   "cell_type": "code",
   "execution_count": null,
   "metadata": {},
   "outputs": [],
   "source": []
  }
 ],
 "metadata": {
  "anaconda-cloud": {},
  "kernelspec": {
   "display_name": "Python 3",
   "language": "python",
   "name": "python3"
  },
  "language_info": {
   "codemirror_mode": {
    "name": "ipython",
    "version": 3
   },
   "file_extension": ".py",
   "mimetype": "text/x-python",
   "name": "python",
   "nbconvert_exporter": "python",
   "pygments_lexer": "ipython3",
   "version": "3.6.6"
  }
 },
 "nbformat": 4,
 "nbformat_minor": 1
}
