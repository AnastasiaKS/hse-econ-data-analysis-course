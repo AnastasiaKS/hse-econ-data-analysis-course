{
 "cells": [
  {
   "cell_type": "markdown",
   "metadata": {},
   "source": [
    "### Разбор последней домашней работы"
   ]
  },
  {
   "cell_type": "markdown",
   "metadata": {},
   "source": [
    "0. Для тех, кто еще неуверенно чувствует себя c Питон, любой онлайн курс + разобраться с тем, что происходило на семинаре. Онлайн курс можно проходить например, на codeacademy, там хорошо и несложно.\n",
    "\n",
    "1. (2 балла) Взять любой текст, скопировать его в строковую переменную (аналогично семинару). Посчитать количество слов, которые встречаются в тексте чаще, чем 3 раза.\n",
    "\n",
    "2. (2 балла) Вероятность того, закончит или не закончит студент некоторый курс, зависит от 3 вещей: интереса к предмету (interest), способностей (talent)  и трудолюбия (diligence). Складываются они по следующей формуле:  \n",
    "Result = interest*0,4 + diligence*0,4 + talent*0,2. Считаем, что интерес, способности и трудолюбие определяются по шкале от 1 до 10; а также что Result больше 10 значит, что студент справится с курсом; а результат менее 10 что студент не справится. На вход вам приходят про конкретного студента эти 3 качества, ответить нужно справится студент с курсом или нет.\n",
    "\n",
    "3. (3 балла) Освободить текст из файла text_first_task.txt от всех символов, которые не буквы и не цифры. Текст можно скопировать в jupyter ноутбук.\n",
    "\n",
    "4. (3 балла) На вход приходит пароль (через input()). Нужно проверить, что в пароле минимум 6 символов разного регистра, есть цифры, буквы и другие символы \n",
    "\n",
    "5. (3 балла) Для текста passwords.txt, в котором есть пароли, найти все пароли. Текст нужно считать из файла\n"
   ]
  },
  {
   "cell_type": "markdown",
   "metadata": {},
   "source": [
    "## Блиц!"
   ]
  },
  {
   "cell_type": "markdown",
   "metadata": {},
   "source": [
    "(3 балла) У вас есть некоторый текст (давайте поверим, что он очень большой). Этот текст - это описание зоопарка, и ваша задача достать (извлечь, намайнить) из него: \n",
    "- общее количество животных в зоопарке\n",
    "- количество животных в зоопарке, которые записаны в красную книгу\n",
    "\n",
    "Сделать это без каких-то изначальных предположений и эвристик было бы очень сложно, поэтому вы подумав (и возможно,пообщались с какими-то полезными людьми, которые хорошо понимают в рассказах о зоопарках) и предположили, следующее:\n",
    "- общее количество животных должно встретиться в тексте где-то перед словом \"animals\" (это не единственный раз, когда в тексте будет написано это слово, но именно такой паттерн \"<int number> animals\" будет присутствовать однажды, и так мы и сможем найти общее число\n",
    "- остальные числа в тексте, меньшие 10 по значению, будут относиться к перечислению редких животных в зоопарке (то есть, сложив их, мы получим нужную сумму)"
   ]
  },
  {
   "cell_type": "markdown",
   "metadata": {},
   "source": [
    "**Доп. задача:** Номер автобусного билета состоит из 6 цифр. Счастливым билетом считаем такой, у которого сумма первых трех цифр равна сумме последних трех цифр. Напишите функцию, которая для данного номера билетика найдет ближайший (в смысле числовой разности) к нему счастливый."
   ]
  },
  {
   "cell_type": "code",
   "execution_count": 19,
   "metadata": {},
   "outputs": [
    {
     "name": "stdout",
     "output_type": "stream",
     "text": [
      "An 0\n",
      "apple 1 An\n",
      "was 2 apple\n",
      "good. 3 was\n",
      "An 4 good.\n",
      "orange 5 An\n",
      "was 6 orange\n",
      "not 7 was\n"
     ]
    }
   ],
   "source": [
    "# for i in range(10):\n",
    "#     print(i + 1)\n",
    "    \n",
    "# for i in 'abcdefg':\n",
    "#     print(i)\n",
    "\n",
    "\n",
    "\n",
    "text = 'An apple was good. An orange was not'\n",
    "text = text.split()\n",
    "\n",
    "i = 0\n",
    "for word in text:\n",
    "    if i > 0:\n",
    "        print(word, i, text[i-1])\n",
    "    else:\n",
    "        print(word, i)\n",
    "    i += 1"
   ]
  },
  {
   "cell_type": "code",
   "execution_count": null,
   "metadata": {
    "collapsed": true
   },
   "outputs": [],
   "source": [
    "i += 1 == i = i + 1\n",
    "i -= 1\n",
    "i *= 2\n",
    "i /= 2"
   ]
  },
  {
   "cell_type": "code",
   "execution_count": 2,
   "metadata": {},
   "outputs": [
    {
     "data": {
      "text/plain": [
       "[0, 1, 2, 3, 4, 5, 6, 7, 8, 9]"
      ]
     },
     "execution_count": 2,
     "metadata": {},
     "output_type": "execute_result"
    }
   ],
   "source": [
    "list(range(10))"
   ]
  },
  {
   "cell_type": "code",
   "execution_count": 21,
   "metadata": {},
   "outputs": [
    {
     "name": "stdout",
     "output_type": "stream",
     "text": [
      "0 An not\n",
      "1 apple An\n",
      "2 was apple\n",
      "3 good. was\n",
      "4 An good.\n",
      "5 orange An\n",
      "6 was orange\n",
      "7 not was\n"
     ]
    }
   ],
   "source": [
    "text = 'An apple was good. An orange was not'\n",
    "text = text.split()\n",
    "\n",
    "for index, word in enumerate(text):\n",
    "    print(index, word, text[index-1])"
   ]
  },
  {
   "cell_type": "code",
   "execution_count": 2,
   "metadata": {},
   "outputs": [],
   "source": [
    "pwd\n",
    "# print workin directory\n",
    "\n",
    "ls\n",
    "# list files"
   ]
  },
  {
   "cell_type": "code",
   "execution_count": 3,
   "metadata": {},
   "outputs": [
    {
     "data": {
      "text/plain": [
       "'/Users/magnitofon/hse-data-analysis/hse-econ-data-analysis-course/week_02'"
      ]
     },
     "execution_count": 3,
     "metadata": {},
     "output_type": "execute_result"
    }
   ],
   "source": [
    "pwd"
   ]
  },
  {
   "cell_type": "code",
   "execution_count": 4,
   "metadata": {},
   "outputs": [
    {
     "name": "stdout",
     "output_type": "stream",
     "text": [
      "filmography.txt   \u001b[31mseminar_02.ipynb\u001b[m\u001b[m* \u001b[31mzoo.txt\u001b[m\u001b[m*\r\n"
     ]
    }
   ],
   "source": [
    "ls"
   ]
  },
  {
   "cell_type": "code",
   "execution_count": 40,
   "metadata": {
    "ExecuteTime": {
     "end_time": "2017-11-18T08:34:41.708387Z",
     "start_time": "2017-11-18T08:34:41.696636Z"
    }
   },
   "outputs": [
    {
     "name": "stdout",
     "output_type": "stream",
     "text": [
      "animals: 2000\n",
      "red_list_animals: 14\n"
     ]
    }
   ],
   "source": [
    "zoo_file = open('C:\\\\Users\\\\student\\\\Desktop\\\\week_02\\\\zoo.txt')\n",
    "text = zoo_file.read()\n",
    "zoo_file.close()\n",
    "\n",
    "\n",
    "split_text = text.split()\n",
    "\n",
    "red_list_animals = 0\n",
    "\n",
    "for index, word in enumerate(text.split()):\n",
    "    if word == 'animals':\n",
    "        previous_word = split_text[index - 1]\n",
    "        if previous_word.isdigit():\n",
    "            print('animals:', previous_word)\n",
    "\n",
    "    if word.isdigit() and int(word) < 10 and \\\n",
    "            split_text[index + 1] != 'animals':\n",
    "        red_list_animals += int(word)\n",
    "        \n",
    "print('red_list_animals:', red_list_animals)"
   ]
  },
  {
   "cell_type": "code",
   "execution_count": 81,
   "metadata": {
    "ExecuteTime": {
     "end_time": "2017-11-18T08:17:11.795264Z",
     "start_time": "2017-11-18T08:17:11.790334Z"
    }
   },
   "outputs": [
    {
     "name": "stdout",
     "output_type": "stream",
     "text": [
      "The Detroit Zoo is home to animals from A to Z, including anteaters and zebras and hundreds of other species in between.\n",
      "More than 2000 animals representing over amphibians, mammals, birds and reptiles live in the Zoo’s\n",
      "humdred acres of true-to-life habitats that bring visitors face-to-face with these exotic creatures. There are also some\n",
      "animals from the IUCN Red List:  6 Lemurs, 5 langurs, 10 borean pigs and 3 Philippine dears.\n",
      "\n"
     ]
    }
   ],
   "source": [
    "print(text)"
   ]
  },
  {
   "cell_type": "markdown",
   "metadata": {},
   "source": [
    "## Еще немного про способы работы с файлами: "
   ]
  },
  {
   "cell_type": "code",
   "execution_count": 53,
   "metadata": {
    "collapsed": true
   },
   "outputs": [],
   "source": [
    "with open('zoo.txt') as zoo_file:\n",
    "    text = zoo_file.read()"
   ]
  },
  {
   "cell_type": "code",
   "execution_count": 46,
   "metadata": {},
   "outputs": [
    {
     "name": "stdout",
     "output_type": "stream",
     "text": [
      "\n"
     ]
    }
   ],
   "source": [
    "print(text2)"
   ]
  },
  {
   "cell_type": "code",
   "execution_count": 52,
   "metadata": {
    "ExecuteTime": {
     "end_time": "2017-11-18T08:40:22.815714Z",
     "start_time": "2017-11-18T08:40:22.808545Z"
    }
   },
   "outputs": [
    {
     "name": "stdout",
     "output_type": "stream",
     "text": [
      "The Detroit Zoo \n"
     ]
    }
   ],
   "source": [
    "#конструкция with позаботится об автоматическом закрытии файла, readline позволяет читать файл по строке\n",
    "with open('zoo.txt') as zoo_file:\n",
    "    print(zoo_file.readline(16))"
   ]
  },
  {
   "cell_type": "code",
   "execution_count": 54,
   "metadata": {
    "ExecuteTime": {
     "end_time": "2017-11-18T08:41:20.363795Z",
     "start_time": "2017-11-18T08:41:20.358366Z"
    }
   },
   "outputs": [
    {
     "name": "stdout",
     "output_type": "stream",
     "text": [
      "The Detroit Zoo is home to animals from A to Z, including anteaters and zebras and hundreds of other species in between.\n",
      "\n",
      "More than 2000 animals representing over amphibians, mammals, birds and reptiles live in the ZooвЂ™s\n",
      "\n",
      "humdred acres of true-to-life habitats that bring visitors face-to-face with these exotic creatures. There are also some\n",
      "\n",
      "animals from the IUCN Red List:  6 Lemurs, 5 langurs, 10 borean pigs and 3 Philippine dears.\n",
      "\n"
     ]
    }
   ],
   "source": [
    "#вы также можете итерироваться по строкам\n",
    "with open('zoo.txt') as f:\n",
    "    for line in f:\n",
    "        print(line)\n",
    "#         print('something else')"
   ]
  },
  {
   "cell_type": "code",
   "execution_count": 59,
   "metadata": {
    "ExecuteTime": {
     "end_time": "2017-11-18T08:42:35.155275Z",
     "start_time": "2017-11-18T08:42:35.149597Z"
    },
    "collapsed": true
   },
   "outputs": [],
   "source": [
    "#можно создать новый файл/открыть файл на запись (но будте осторожны!)\n",
    "\n",
    "# w - write\n",
    "# a - append\n",
    "\n",
    "f = open('test_file_01.txt', 'w')\n",
    " \n",
    "f.write('Hello World! ')\n",
    "f.write('My name is Katya!\\n')\n",
    "f.write('This is our new text file\\n')\n",
    "f.write('and this is another line.\\n')\n",
    "f.write('Why? Because we can.')\n",
    " \n",
    "f.close() "
   ]
  },
  {
   "cell_type": "code",
   "execution_count": 61,
   "metadata": {},
   "outputs": [],
   "source": [
    "#можно создать новый файл/открыть файл на запись (но будте осторожны!)\n",
    "\n",
    "# w - write\n",
    "# a - append\n",
    "\n",
    "with open('test_file_01.txt', 'w') as f:\n",
    "    f.write('Hello World! ')\n",
    "    f.write('My name is Katya!\\n')\n",
    "    f.write('This is our new text file\\n')\n",
    "    f.write('and this is another line.\\n')\n",
    "    f.write('Why? Because we can.')"
   ]
  },
  {
   "cell_type": "code",
   "execution_count": 106,
   "metadata": {
    "ExecuteTime": {
     "end_time": "2017-11-18T08:43:42.603427Z",
     "start_time": "2017-11-18T08:43:42.597221Z"
    },
    "collapsed": true
   },
   "outputs": [],
   "source": [
    "f = open('test_file_02.txt','w') \n",
    " \n",
    "print('Hello', file=f)\n",
    "print(2**8, file=f)\n",
    "\n",
    "f.close()"
   ]
  },
  {
   "cell_type": "code",
   "execution_count": 63,
   "metadata": {
    "collapsed": true
   },
   "outputs": [],
   "source": [
    "with open('test_file_02.txt','w') as f:\n",
    "    print('Hello', file=f)\n",
    "    print(2**8, file=f)\n",
    "    print(2**9, file=f)\n",
    "    print('Hello', file=f)\n",
    "    print('Hello', file=f)\n",
    "    print('Hello', file=f)"
   ]
  },
  {
   "cell_type": "markdown",
   "metadata": {},
   "source": [
    "Для записи можно использовать методы write и print и не забывать при открытии файла выставить моду записи \"w\". Однако нужно быть аккуратными - если вы откроете существующий файл с модой записи \"w\" все данные оттуда сотрутся. Чтобы открыть файл на дозапись, вместо буквы \"w\" нужно поставить букву \"а\""
   ]
  },
  {
   "cell_type": "markdown",
   "metadata": {},
   "source": [
    "К слову о дозаписи:"
   ]
  },
  {
   "cell_type": "code",
   "execution_count": 64,
   "metadata": {
    "ExecuteTime": {
     "end_time": "2017-11-18T08:44:52.380479Z",
     "start_time": "2017-11-18T08:44:52.377029Z"
    },
    "collapsed": true
   },
   "outputs": [],
   "source": [
    "fo = open('animals_count.txt', 'a')\n",
    "print('Heeey I can write something without deleting whole file!', \n",
    "      file=fo)\n",
    "fo.close()"
   ]
  },
  {
   "cell_type": "markdown",
   "metadata": {},
   "source": [
    "### key points\n",
    "\n",
    "* считывание файла\n",
    "* запись файла: перезаписывание информации и добавление информации в конец\n",
    "* более правильный и короткий подход через парадигму with open"
   ]
  },
  {
   "cell_type": "markdown",
   "metadata": {},
   "source": [
    "## dict - Словари"
   ]
  },
  {
   "cell_type": "code",
   "execution_count": 81,
   "metadata": {
    "ExecuteTime": {
     "end_time": "2017-11-18T08:46:20.802800Z",
     "start_time": "2017-11-18T08:46:20.796760Z"
    }
   },
   "outputs": [
    {
     "name": "stdout",
     "output_type": "stream",
     "text": [
      "{'Голубев': '27384927539', 'ambulance': '03'}\n"
     ]
    }
   ],
   "source": [
    "my_dict = dict([['Голубев', '27384927539'], ('ambulance', '03')])\n",
    "print(my_dict)"
   ]
  },
  {
   "cell_type": "code",
   "execution_count": 82,
   "metadata": {
    "ExecuteTime": {
     "end_time": "2017-11-18T08:46:58.753777Z",
     "start_time": "2017-11-18T08:46:58.750507Z"
    },
    "collapsed": true
   },
   "outputs": [],
   "source": [
    "phones = {'police': 102, 'ambulance': 103, 'firefighters': 101}"
   ]
  },
  {
   "cell_type": "code",
   "execution_count": 70,
   "metadata": {
    "ExecuteTime": {
     "end_time": "2017-11-17T20:32:11.697057Z",
     "start_time": "2017-11-17T20:32:11.693897Z"
    }
   },
   "outputs": [
    {
     "data": {
      "text/plain": [
       "102"
      ]
     },
     "execution_count": 70,
     "metadata": {},
     "output_type": "execute_result"
    }
   ],
   "source": [
    "phones['police']"
   ]
  },
  {
   "cell_type": "code",
   "execution_count": 6,
   "metadata": {},
   "outputs": [],
   "source": [
    "# добавить к my_dict ключи-значения из phones\n",
    "my_dict.update(phones)"
   ]
  },
  {
   "cell_type": "code",
   "execution_count": 84,
   "metadata": {},
   "outputs": [
    {
     "data": {
      "text/plain": [
       "{'ambulance': 103,\n",
       " 'firefighters': 101,\n",
       " 'police': 102,\n",
       " 'Голубев': '27384927539'}"
      ]
     },
     "execution_count": 84,
     "metadata": {},
     "output_type": "execute_result"
    }
   ],
   "source": [
    "my_dict"
   ]
  },
  {
   "cell_type": "code",
   "execution_count": 73,
   "metadata": {
    "ExecuteTime": {
     "end_time": "2017-11-17T20:32:40.493986Z",
     "start_time": "2017-11-17T20:32:40.490546Z"
    }
   },
   "outputs": [
    {
     "data": {
      "text/plain": [
       "['police', 'ambulance', 'firefighters']"
      ]
     },
     "execution_count": 73,
     "metadata": {},
     "output_type": "execute_result"
    }
   ],
   "source": [
    "list(phones.keys())"
   ]
  },
  {
   "cell_type": "code",
   "execution_count": 75,
   "metadata": {
    "ExecuteTime": {
     "end_time": "2017-11-18T08:48:09.230210Z",
     "start_time": "2017-11-18T08:48:09.225211Z"
    }
   },
   "outputs": [
    {
     "data": {
      "text/plain": [
       "[102, 103, 101]"
      ]
     },
     "execution_count": 75,
     "metadata": {},
     "output_type": "execute_result"
    }
   ],
   "source": [
    "list(phones.values())"
   ]
  },
  {
   "cell_type": "code",
   "execution_count": 26,
   "metadata": {
    "ExecuteTime": {
     "end_time": "2017-11-17T21:33:28.490527Z",
     "start_time": "2017-11-17T21:33:28.486351Z"
    }
   },
   "outputs": [
    {
     "data": {
      "text/plain": [
       "dict_items([('police', 102), ('ambulance', 103), ('firefighters', 101)])"
      ]
     },
     "execution_count": 26,
     "metadata": {},
     "output_type": "execute_result"
    }
   ],
   "source": [
    "phones.items()"
   ]
  },
  {
   "cell_type": "code",
   "execution_count": 90,
   "metadata": {
    "ExecuteTime": {
     "end_time": "2017-11-17T21:59:14.804776Z",
     "start_time": "2017-11-17T21:59:14.800974Z"
    }
   },
   "outputs": [
    {
     "name": "stdout",
     "output_type": "stream",
     "text": [
      "police 102\n",
      "ambulance 103\n",
      "firefighters 101\n"
     ]
    }
   ],
   "source": [
    "for item in phones.items():\n",
    "    key, val = item\n",
    "    print(key, val)"
   ]
  },
  {
   "cell_type": "code",
   "execution_count": 94,
   "metadata": {},
   "outputs": [
    {
     "name": "stdout",
     "output_type": "stream",
     "text": [
      "1 2\n"
     ]
    }
   ],
   "source": [
    "# \"распечатывание\" кортежей (списков, строк) на отдельные переменные\n",
    "a, b, _, _ = (1, 2, 3, 4)\n",
    "print(a,b)"
   ]
  },
  {
   "cell_type": "code",
   "execution_count": null,
   "metadata": {
    "collapsed": true
   },
   "outputs": [],
   "source": [
    "for key in phones.items():\n",
    "    print(key)"
   ]
  },
  {
   "cell_type": "code",
   "execution_count": 28,
   "metadata": {
    "ExecuteTime": {
     "end_time": "2017-11-17T21:33:52.203502Z",
     "start_time": "2017-11-17T21:33:52.199682Z"
    }
   },
   "outputs": [
    {
     "name": "stdout",
     "output_type": "stream",
     "text": [
      "police 102\n",
      "ambulance 103\n",
      "firefighters 101\n"
     ]
    }
   ],
   "source": [
    "for key, value in phones.items():\n",
    "    print(key, value)"
   ]
  },
  {
   "cell_type": "markdown",
   "metadata": {
    "ExecuteTime": {
     "end_time": "2017-11-17T20:32:59.669463Z",
     "start_time": "2017-11-17T20:32:59.666668Z"
    }
   },
   "source": [
    "### defaultdict and Counter from collections"
   ]
  },
  {
   "cell_type": "code",
   "execution_count": 9,
   "metadata": {},
   "outputs": [],
   "source": [
    "from collections import defaultdict, Counter"
   ]
  },
  {
   "cell_type": "code",
   "execution_count": 11,
   "metadata": {},
   "outputs": [
    {
     "name": "stdout",
     "output_type": "stream",
     "text": [
      "[('and', 4), ('animals', 3), ('to', 2), ('from', 2), ('of', 2), ('in', 2), ('the', 2), ('The', 1), ('Detroit', 1), ('Zoo', 1)]\n"
     ]
    }
   ],
   "source": [
    "with open('zoo.txt') as zoo_file:\n",
    "    text = zoo_file.read()\n",
    "    \n",
    "print(Counter(text.split()).most_common(10))"
   ]
  },
  {
   "cell_type": "code",
   "execution_count": 179,
   "metadata": {},
   "outputs": [],
   "source": [
    "slovar = {1: 'asdasd', 2: 3, 3: 1}\n",
    "kounter = Counter(slovar)"
   ]
  },
  {
   "cell_type": "code",
   "execution_count": 181,
   "metadata": {
    "collapsed": true
   },
   "outputs": [],
   "source": [
    "a = Counter()\n",
    "a = defaultdict(int)"
   ]
  },
  {
   "cell_type": "code",
   "execution_count": 185,
   "metadata": {},
   "outputs": [],
   "source": [
    "a = list()"
   ]
  },
  {
   "cell_type": "code",
   "execution_count": 186,
   "metadata": {},
   "outputs": [
    {
     "data": {
      "text/plain": [
       "[]"
      ]
     },
     "execution_count": 186,
     "metadata": {},
     "output_type": "execute_result"
    }
   ],
   "source": [
    "a"
   ]
  },
  {
   "cell_type": "code",
   "execution_count": 177,
   "metadata": {},
   "outputs": [
    {
     "data": {
      "text/plain": [
       "Counter({1: 'asdasd', 2: 3, 3: 1})"
      ]
     },
     "execution_count": 177,
     "metadata": {},
     "output_type": "execute_result"
    }
   ],
   "source": [
    "kounter"
   ]
  },
  {
   "cell_type": "code",
   "execution_count": 166,
   "metadata": {},
   "outputs": [
    {
     "data": {
      "text/plain": [
       "Counter({1: 4, 2: 3, 3: 1})"
      ]
     },
     "execution_count": 166,
     "metadata": {},
     "output_type": "execute_result"
    }
   ],
   "source": [
    "a"
   ]
  },
  {
   "cell_type": "code",
   "execution_count": 167,
   "metadata": {},
   "outputs": [],
   "source": [
    "a = {1: 4, 2: 3, 3: 1}"
   ]
  },
  {
   "cell_type": "code",
   "execution_count": 168,
   "metadata": {},
   "outputs": [
    {
     "data": {
      "text/plain": [
       "{1: 4, 2: 3, 3: 1}"
      ]
     },
     "execution_count": 168,
     "metadata": {},
     "output_type": "execute_result"
    }
   ],
   "source": [
    "a"
   ]
  },
  {
   "cell_type": "code",
   "execution_count": 169,
   "metadata": {},
   "outputs": [
    {
     "ename": "KeyError",
     "evalue": "10",
     "output_type": "error",
     "traceback": [
      "\u001b[0;31m---------------------------------------------------------------------------\u001b[0m",
      "\u001b[0;31mKeyError\u001b[0m                                  Traceback (most recent call last)",
      "\u001b[0;32m<ipython-input-169-5c463c0247cc>\u001b[0m in \u001b[0;36m<module>\u001b[0;34m()\u001b[0m\n\u001b[0;32m----> 1\u001b[0;31m \u001b[0ma\u001b[0m\u001b[1;33m[\u001b[0m\u001b[1;36m10\u001b[0m\u001b[1;33m]\u001b[0m\u001b[1;33m\u001b[0m\u001b[0m\n\u001b[0m",
      "\u001b[0;31mKeyError\u001b[0m: 10"
     ]
    }
   ],
   "source": [
    "a[10]"
   ]
  },
  {
   "cell_type": "code",
   "execution_count": 102,
   "metadata": {},
   "outputs": [],
   "source": [
    "text = text.lower()\n",
    "for punct in ',.!;':\n",
    "    text = text.replace(punct, '')\n",
    "    \n",
    "text_list = text.split()\n",
    "\n",
    "word_counts = Counter(text_list)"
   ]
  },
  {
   "cell_type": "code",
   "execution_count": 107,
   "metadata": {
    "collapsed": true
   },
   "outputs": [],
   "source": [
    "a = Counter({'яблоки' : 115})"
   ]
  },
  {
   "cell_type": "code",
   "execution_count": 105,
   "metadata": {
    "collapsed": true
   },
   "outputs": [],
   "source": [
    "a['яблоки'] = 10"
   ]
  },
  {
   "cell_type": "code",
   "execution_count": 108,
   "metadata": {},
   "outputs": [
    {
     "data": {
      "text/plain": [
       "Counter({'яблоки': 115})"
      ]
     },
     "execution_count": 108,
     "metadata": {},
     "output_type": "execute_result"
    }
   ],
   "source": [
    "a"
   ]
  },
  {
   "cell_type": "code",
   "execution_count": 116,
   "metadata": {},
   "outputs": [
    {
     "data": {
      "text/plain": [
       "[('dears', 1), ('philippine', 1), ('3', 1)]"
      ]
     },
     "execution_count": 116,
     "metadata": {},
     "output_type": "execute_result"
    }
   ],
   "source": [
    "# меньшие по встречаемости\n",
    "word_counts.most_common()[::-1][:3]"
   ]
  },
  {
   "cell_type": "code",
   "execution_count": 121,
   "metadata": {},
   "outputs": [],
   "source": [
    "word_counts['холодильник'] += 1"
   ]
  },
  {
   "cell_type": "code",
   "execution_count": 139,
   "metadata": {},
   "outputs": [],
   "source": [
    "a = defaultdict(list)\n",
    "a.update({'police': 102, 'ambulance': 103, 'firefighters': 101})\n"
   ]
  },
  {
   "cell_type": "code",
   "execution_count": 145,
   "metadata": {},
   "outputs": [],
   "source": [
    "animals = ['cat', 'tiger']\n",
    "\n",
    "text = 'asdashf adsgfjsd hglahsd l bad cat fasjdfg;lasg good cat afdasfasgd evil tiger'\n",
    "text = text.split()\n",
    "animal_properties = defaultdict(list)\n",
    "\n",
    "for index, el in enumerate(text):\n",
    "    if el in animals:\n",
    "        animal_properties[el].append(text[index - 1])"
   ]
  },
  {
   "cell_type": "code",
   "execution_count": 151,
   "metadata": {
    "collapsed": true
   },
   "outputs": [],
   "source": [
    "animal_properties = defaultdict(list)"
   ]
  },
  {
   "cell_type": "code",
   "execution_count": 149,
   "metadata": {
    "collapsed": true
   },
   "outputs": [],
   "source": [
    "animal_properties = {}"
   ]
  },
  {
   "cell_type": "code",
   "execution_count": 153,
   "metadata": {},
   "outputs": [],
   "source": [
    "animal_properties['cat'].append(2)"
   ]
  },
  {
   "cell_type": "code",
   "execution_count": 154,
   "metadata": {},
   "outputs": [
    {
     "data": {
      "text/plain": [
       "defaultdict(list, {'cat': [2]})"
      ]
     },
     "execution_count": 154,
     "metadata": {},
     "output_type": "execute_result"
    }
   ],
   "source": [
    "animal_properties"
   ]
  },
  {
   "cell_type": "code",
   "execution_count": 8,
   "metadata": {
    "ExecuteTime": {
     "end_time": "2017-11-17T21:37:02.274654Z",
     "start_time": "2017-11-17T21:37:02.263455Z"
    }
   },
   "outputs": [],
   "source": [
    "from collections import defaultdict, Counter\n",
    "new_phones = defaultdict(int)\n",
    "phones['Kate']\n",
    "new_phones['Kate']"
   ]
  },
  {
   "cell_type": "code",
   "execution_count": 9,
   "metadata": {
    "collapsed": true
   },
   "outputs": [],
   "source": [
    "from collections import Counter"
   ]
  },
  {
   "cell_type": "markdown",
   "metadata": {},
   "source": [
    "defaultdict(int) - это то же самое, что и Counter. значение по умолчанию 0, то есть если ключа нет в словаре - возвращает 0.\n",
    "\n",
    "defaultdict(list) - значение по умолчанию - пустой список, то есть если ключ отсутсвует, возвращает пустой список."
   ]
  },
  {
   "cell_type": "markdown",
   "metadata": {},
   "source": [
    "### key points\n",
    "\n",
    "* тип данные словарь (dict)\n",
    "* обобщение словаря, Counter - удобен для подсёчта вхождений чего-нибудь куда-нибудь. Метод most_common\n",
    "* обобщение словаря, defaultdict\n"
   ]
  },
  {
   "cell_type": "markdown",
   "metadata": {},
   "source": [
    "## Функция sorted"
   ]
  },
  {
   "cell_type": "code",
   "execution_count": 192,
   "metadata": {
    "ExecuteTime": {
     "end_time": "2017-11-17T22:00:28.058818Z",
     "start_time": "2017-11-17T22:00:28.053661Z"
    }
   },
   "outputs": [],
   "source": [
    "my_list = [4, 5, 1, -100, 1, 2, 5]"
   ]
  },
  {
   "cell_type": "code",
   "execution_count": 188,
   "metadata": {},
   "outputs": [
    {
     "data": {
      "text/plain": [
       "[-100, 1, 1, 2, 4, 5, 5]"
      ]
     },
     "execution_count": 188,
     "metadata": {},
     "output_type": "execute_result"
    }
   ],
   "source": [
    "sorted(my_list) # возвращает отсортированный список\n",
    "my_list.sort() # ничего не возвращает: сортирует переменную на месте"
   ]
  },
  {
   "cell_type": "code",
   "execution_count": 198,
   "metadata": {},
   "outputs": [
    {
     "data": {
      "text/plain": [
       "False"
      ]
     },
     "execution_count": 198,
     "metadata": {},
     "output_type": "execute_result"
    }
   ],
   "source": []
  },
  {
   "cell_type": "code",
   "execution_count": 199,
   "metadata": {
    "ExecuteTime": {
     "end_time": "2017-11-17T22:12:49.766900Z",
     "start_time": "2017-11-17T22:12:49.761999Z"
    }
   },
   "outputs": [
    {
     "data": {
      "text/plain": [
       "['', 'A', '_', 'a', 'aa', 'ab']"
      ]
     },
     "execution_count": 199,
     "metadata": {},
     "output_type": "execute_result"
    }
   ],
   "source": [
    "my_lines = ['aa', 'a', 'ab', '', '_', 'A']\n",
    "sorted(my_lines)"
   ]
  },
  {
   "cell_type": "code",
   "execution_count": 200,
   "metadata": {
    "ExecuteTime": {
     "end_time": "2017-11-18T09:16:15.917700Z",
     "start_time": "2017-11-18T09:16:15.909988Z"
    }
   },
   "outputs": [
    {
     "data": {
      "text/plain": [
       "{-100: 'z', 1: 'd', 2: 'e', 4: 'a', 5: 'k'}"
      ]
     },
     "execution_count": 200,
     "metadata": {},
     "output_type": "execute_result"
    }
   ],
   "source": [
    "my_dict = {4: 'a', 5: 'c', 1: 'a', -100: 'z', 1: 'd', 2: 'e', 5: 'k'}\n",
    "my_dict"
   ]
  },
  {
   "cell_type": "code",
   "execution_count": 201,
   "metadata": {
    "ExecuteTime": {
     "end_time": "2017-11-18T09:16:17.325128Z",
     "start_time": "2017-11-18T09:16:17.319785Z"
    }
   },
   "outputs": [
    {
     "data": {
      "text/plain": [
       "[-100, 1, 2, 4, 5]"
      ]
     },
     "execution_count": 201,
     "metadata": {},
     "output_type": "execute_result"
    }
   ],
   "source": [
    "sorted(my_dict)"
   ]
  },
  {
   "cell_type": "code",
   "execution_count": 118,
   "metadata": {
    "ExecuteTime": {
     "end_time": "2017-11-18T09:16:18.279931Z",
     "start_time": "2017-11-18T09:16:18.273514Z"
    }
   },
   "outputs": [
    {
     "data": {
      "text/plain": [
       "['a', 'd', 'e', 'k', 'z']"
      ]
     },
     "execution_count": 118,
     "metadata": {},
     "output_type": "execute_result"
    }
   ],
   "source": [
    "sorted(my_dict.values())"
   ]
  },
  {
   "cell_type": "code",
   "execution_count": 119,
   "metadata": {
    "ExecuteTime": {
     "end_time": "2017-11-18T09:17:27.690762Z",
     "start_time": "2017-11-18T09:17:27.686502Z"
    }
   },
   "outputs": [
    {
     "data": {
      "text/plain": [
       "dict_items([(4, 'a'), (5, 'k'), (1, 'd'), (-100, 'z'), (2, 'e')])"
      ]
     },
     "execution_count": 119,
     "metadata": {},
     "output_type": "execute_result"
    }
   ],
   "source": [
    "my_dict.items()"
   ]
  },
  {
   "cell_type": "code",
   "execution_count": 43,
   "metadata": {
    "ExecuteTime": {
     "end_time": "2017-11-17T22:00:56.244649Z",
     "start_time": "2017-11-17T22:00:56.240231Z"
    }
   },
   "outputs": [
    {
     "data": {
      "text/plain": [
       "[(-100, 'z'), (1, 'd'), (2, 'e'), (4, 'a'), (5, 'k')]"
      ]
     },
     "execution_count": 43,
     "metadata": {},
     "output_type": "execute_result"
    }
   ],
   "source": [
    "sorted(my_dict.items())"
   ]
  },
  {
   "cell_type": "code",
   "execution_count": 46,
   "metadata": {
    "ExecuteTime": {
     "end_time": "2017-11-17T22:01:14.310436Z",
     "start_time": "2017-11-17T22:01:14.305866Z"
    }
   },
   "outputs": [
    {
     "data": {
      "text/plain": [
       "[(5, 'k'), (4, 'a'), (2, 'e'), (1, 'd'), (-100, 'z')]"
      ]
     },
     "execution_count": 46,
     "metadata": {},
     "output_type": "execute_result"
    }
   ],
   "source": [
    "sorted(my_dict.items(), reverse=True)"
   ]
  },
  {
   "cell_type": "markdown",
   "metadata": {},
   "source": [
    "Иногда хочется отсортировать, скажем, список из кортежей по второму элементу (по умолчанию сортировка идет по первому)"
   ]
  },
  {
   "cell_type": "code",
   "execution_count": 202,
   "metadata": {
    "ExecuteTime": {
     "end_time": "2017-11-17T22:02:48.961649Z",
     "start_time": "2017-11-17T22:02:48.958707Z"
    },
    "collapsed": true
   },
   "outputs": [],
   "source": [
    "def get_second_elem(x):\n",
    "    return x[1]"
   ]
  },
  {
   "cell_type": "code",
   "execution_count": 49,
   "metadata": {
    "ExecuteTime": {
     "end_time": "2017-11-17T22:02:49.549085Z",
     "start_time": "2017-11-17T22:02:49.544725Z"
    }
   },
   "outputs": [
    {
     "data": {
      "text/plain": [
       "[(4, 'a'), (1, 'd'), (2, 'e'), (5, 'k'), (-100, 'z')]"
      ]
     },
     "execution_count": 49,
     "metadata": {},
     "output_type": "execute_result"
    }
   ],
   "source": [
    "sorted(my_dict.items(), key=get_seconda_elem)"
   ]
  },
  {
   "cell_type": "code",
   "execution_count": 204,
   "metadata": {
    "collapsed": true
   },
   "outputs": [],
   "source": [
    "# lambda-функции - инструмент для быстрого определения простых функций\n",
    "get_second_elem = lambda x : x[1]"
   ]
  },
  {
   "cell_type": "code",
   "execution_count": 13,
   "metadata": {},
   "outputs": [
    {
     "name": "stdout",
     "output_type": "stream",
     "text": [
      "25\n"
     ]
    }
   ],
   "source": [
    "square = lambda x: x**2\n",
    "print(square(5))"
   ]
  },
  {
   "cell_type": "code",
   "execution_count": 15,
   "metadata": {},
   "outputs": [],
   "source": [
    "sorted(my_dict.items(), key=lambda x : x[1])"
   ]
  },
  {
   "cell_type": "code",
   "execution_count": null,
   "metadata": {
    "collapsed": true
   },
   "outputs": [],
   "source": [
    "sorted(korobki, key=lambda x : x[2])"
   ]
  },
  {
   "cell_type": "code",
   "execution_count": 50,
   "metadata": {
    "ExecuteTime": {
     "end_time": "2017-11-17T22:02:51.549772Z",
     "start_time": "2017-11-17T22:02:51.545281Z"
    }
   },
   "outputs": [
    {
     "data": {
      "text/plain": [
       "[(4, 'a'), (1, 'd'), (2, 'e'), (5, 'k'), (-100, 'z')]"
      ]
     },
     "execution_count": 50,
     "metadata": {},
     "output_type": "execute_result"
    }
   ],
   "source": [
    "sorted(my_dict.items(), key=lambda x: x[1])"
   ]
  },
  {
   "cell_type": "markdown",
   "metadata": {},
   "source": [
    "### key points\n",
    "\n",
    "* функция sorted\n",
    "* лямбда-функции\n",
    "* сортировка по произвольному ключу\n"
   ]
  },
  {
   "cell_type": "markdown",
   "metadata": {},
   "source": [
    "## Практика: 13:07-13:37\n",
    "\n",
    "1. (1 балл) Создайте словарь superhero_ranks. Назначьте значение 2 Аквамену и значение 1 Супермену\n",
    "\n",
    "2. (3 балла) Дан список целых чисел. Сформировать словарь, в котором ключами будут числа, а значенями - количество употреблений данных чисел в списке. Например, если дан список [1, 1, 3, 2, 1, 3, 4], то в нем число 1 встречается три раза, число 3 - два раза, числа 2 и 4 - по одному разу.\n",
    "\n",
    "3. (2 балла) Дана фильмография актера. Отсортируйте фильмы по годам от новых к старым:\n",
    "\n",
    "Для 3 задачи копируйте содержимое файла https://raw.githubusercontent.com/magnitofonov/hse-econ-data-analysis-course/master/week_02/filmography.txt"
   ]
  },
  {
   "cell_type": "code",
   "execution_count": 56,
   "metadata": {
    "ExecuteTime": {
     "end_time": "2017-11-17T22:18:26.729985Z",
     "start_time": "2017-11-17T22:18:26.721428Z"
    },
    "collapsed": true
   },
   "outputs": [],
   "source": [
    "movies = \"\"\"1983  ф Резиновое лицо  Rubberface (Introducting… Janet)  Тони Морони\n",
    "2000  ф Я, снова я и Ирэн Me, Myself and Irene  Офицер Чарли Бэйлигейтс/Хэнк\n",
    "2008  ф Всегда говори «Да»  Yes man Карл Аллен\n",
    "1989  ф Земные девушки легко доступны Earth Girls Are Easy  Уиплок\n",
    "1988  ф Смертельный список  The Dead Pool Джонни Squares\n",
    "2011  с Офис  The Office  Парень из Пальцевых Озер (одна серия)\n",
    "2009  ф Я люблю тебя, Филлип Моррис I Love You Phillip Morris Стив Рассел\n",
    "1983  ф Всё в хорошем вкусе All in Good Taste Ральф\n",
    "2009  мф  Рождественская история  A Christmas Carol Эбенезер Скрудж, призраки\n",
    "1984 — 1984 с Утиная фабрика  The Duck Factory  Скип Таркентон\n",
    "2007  ф Роковое число 23  Number 23 Уолтер Спэрроу\n",
    "2017  ф Джим и Энди - великое запределье  Оригинальное название неизвестно\n",
    "2008  мф  Хортон  Horton Hears a Who! Хортон (голос)\n",
    "2003  ф Брюс всемогущий Bruce Almighty  Брюс Нолан\n",
    "1996  ф Кабельщик The Cable Guy Кабельщик/Чип/Рики\n",
    "2009  ф Под морем в 3D  Under the Sea 3D  рассказчик\n",
    "2013  ф Невероятный Бёрт Уандерстоун  Burt Wonderstone  Стив Грэй\n",
    "1989  ф Розовый кадиллак  Pink Cadillac Комедиант\n",
    "2013  ф Телеведущий 2 Anchorman: The Legend Continues ведущий Скотт Райлс\n",
    "1999  ф Человек на Луне Man on the Moon Энди Кауфман/Тони Клифтон\n",
    "1994  ф Маска The Mask  Стэнли Ипкисс\n",
    "2011  ф Пингвины мистера Поппера  Mr. Popper’s Penguins Том Поппер\n",
    "2000  ф Гринч — похититель Рождества  How the Grinch Stole Christmas  Гринч\n",
    "1986  ф Пегги Сью вышла замуж Peggy Sue Got Married Уолтер Гетц\n",
    "1998  ф Шоу Трумана The Truman Show Трумэн Бёрбэнк\n",
    "1983  ф Гора Куппер Copper Mountain Бобби Тодд\n",
    "2013  ф Пипец 2 Kick-Ass 2  Полковник Америка\n",
    "1985  ф Однажды укушенный Once Bitten Марк Кендэлл\n",
    "2005  ф Аферисты Дик и Джейн  Fun with Dick and Jane  Дик Харпер\n",
    "1995  ф Бэтмен навсегда Batman Forever  Эдвард Нигма/Загадочник\n",
    "1990 — 1994 с В живом цвете In Living Color Различные роли\n",
    "1984  ф Чур, мое! Finders Keepers Лэйн Бидлекофф\n",
    "1995  ф Эйс Вентура 2: Когда зовёт природа  Ace Ventura: When Nature Calls  Эйс Вентура\n",
    "2016  ф Настоящее преступление  True Crimes Джек\n",
    "1993  ф Эйс Вентура: Розыск домашних животных Ace Ventura: Pet Detective  Эйс Вентура\n",
    "2016  ф Плохая партия The Bad Batch Питер\n",
    "2001  ф Мажестик  The Majestic  Питер Эпплтон\n",
    "1991  ф Нервы на пределе  High Strung Смерть\n",
    "2004  ф Лемони Сникет: 33 несчастья Lemony Snicket’s A Series of Unfortunate Events Граф Олаф\n",
    "2004  ф Вечное сияние чистого разума  Eternal Sunshine of the Spotless Mind Джоел Бэриш\n",
    "1997  ф Лжец, лжец  Liar Liar Флетчер Рид\n",
    "1992  мф  Крошечный паучок  Itsy Bitsy Spider Истребитель насекомых (голос)\n",
    "1992  ф Жизнь на Мэйпл-Драйв (ТВ) Doing Time on Maple Drive Тим Картер\n",
    "2014  ф Тупой и ещё тупее 2 Dumb & Dumber 2 Ллойд Кристмас\n",
    "1998  ф Саймон Бирч Simon Birch Взрослый Джо Вентеуорф\n",
    "1994  ф Тупой и ещё тупее Dumb & Dumber Ллойд Кристмас\"\"\""
   ]
  },
  {
   "cell_type": "markdown",
   "metadata": {},
   "source": [
    "## Библиотека requests"
   ]
  },
  {
   "cell_type": "code",
   "execution_count": 17,
   "metadata": {
    "ExecuteTime": {
     "end_time": "2017-11-18T09:57:28.343211Z",
     "start_time": "2017-11-18T09:57:27.138125Z"
    }
   },
   "outputs": [],
   "source": [
    "import requests\n",
    "response = requests.get('https://yandex.ru')"
   ]
  },
  {
   "cell_type": "code",
   "execution_count": 18,
   "metadata": {},
   "outputs": [
    {
     "data": {
      "text/plain": [
       "True"
      ]
     },
     "execution_count": 18,
     "metadata": {},
     "output_type": "execute_result"
    }
   ],
   "source": [
    "# status_code равный 200, значит, что страница прочиталась хорошо\n",
    "response.status_code == 200"
   ]
  },
  {
   "cell_type": "code",
   "execution_count": 214,
   "metadata": {},
   "outputs": [],
   "source": [
    "response_test = response.text"
   ]
  },
  {
   "cell_type": "code",
   "execution_count": 223,
   "metadata": {},
   "outputs": [
    {
     "data": {
      "text/plain": [
       "109518"
      ]
     },
     "execution_count": 223,
     "metadata": {},
     "output_type": "execute_result"
    }
   ],
   "source": [
    "response_test.find('Mr.Ricco')"
   ]
  },
  {
   "cell_type": "code",
   "execution_count": 229,
   "metadata": {},
   "outputs": [
    {
     "name": "stdout",
     "output_type": "stream",
     "text": [
      "33785\n"
     ]
    }
   ],
   "source": [
    "ind = response_test.find('USD')\n",
    "print(ind)"
   ]
  },
  {
   "cell_type": "code",
   "execution_count": 215,
   "metadata": {
    "ExecuteTime": {
     "end_time": "2017-11-17T19:51:22.235287Z",
     "start_time": "2017-11-17T19:51:22.231592Z"
    },
    "scrolled": true
   },
   "outputs": [
    {
     "data": {
      "text/plain": [
       "-1"
      ]
     },
     "execution_count": 215,
     "metadata": {},
     "output_type": "execute_result"
    }
   ],
   "source": [
    "response_test.find('USD MOEX')"
   ]
  },
  {
   "cell_type": "code",
   "execution_count": 219,
   "metadata": {},
   "outputs": [
    {
     "data": {
      "text/plain": [
       "'dy></html>'"
      ]
     },
     "execution_count": 219,
     "metadata": {},
     "output_type": "execute_result"
    }
   ],
   "source": [
    "response_test[-10:]"
   ]
  },
  {
   "cell_type": "code",
   "execution_count": 12,
   "metadata": {
    "ExecuteTime": {
     "end_time": "2017-11-18T09:59:03.166906Z",
     "start_time": "2017-11-18T09:59:00.526786Z"
    }
   },
   "outputs": [
    {
     "name": "stdout",
     "output_type": "stream",
     "text": [
      "401\n",
      "application/json; charset=utf-8\n",
      "utf-8\n",
      "{\"message\":\"Bad credentials\",\"documentation_url\":\"https://developer.github.com/v3\"}\n"
     ]
    }
   ],
   "source": [
    "response = requests.get('https://api.github.com/user', \n",
    "                        auth=('denikekate', 'pass'))\n",
    "print(response.status_code)\n",
    "print(response.headers['content-type'])\n",
    "print(response.encoding)\n",
    "print(response.text)"
   ]
  },
  {
   "cell_type": "code",
   "execution_count": null,
   "metadata": {
    "collapsed": true
   },
   "outputs": [],
   "source": [
    "# BeautifulSoup"
   ]
  },
  {
   "cell_type": "code",
   "execution_count": 14,
   "metadata": {
    "collapsed": true
   },
   "outputs": [],
   "source": []
  },
  {
   "cell_type": "code",
   "execution_count": 235,
   "metadata": {},
   "outputs": [],
   "source": [
    "ind = response_test.find('.jpg')"
   ]
  },
  {
   "cell_type": "code",
   "execution_count": 244,
   "metadata": {},
   "outputs": [],
   "source": [
    "#response.text[ind - 1650:ind+20]"
   ]
  },
  {
   "cell_type": "code",
   "execution_count": 239,
   "metadata": {},
   "outputs": [],
   "source": [
    "#els[:10]"
   ]
  },
  {
   "cell_type": "code",
   "execution_count": 27,
   "metadata": {},
   "outputs": [
    {
     "data": {
      "text/plain": [
       "'https:/'"
      ]
     },
     "execution_count": 27,
     "metadata": {},
     "output_type": "execute_result"
    }
   ],
   "source": [
    "'https://sss.jpg'[:7]"
   ]
  },
  {
   "cell_type": "markdown",
   "metadata": {},
   "source": [
    "### key points\n",
    "\n",
    "* модуль requests\n",
    "* скачивание в переменную содержимого веб-страницы\n",
    "* просмотр html-кода странице в браузере\n",
    "* обработка и поиск нужной информации страницы с помощью изученных методов работы со строками\n"
   ]
  },
  {
   "cell_type": "markdown",
   "metadata": {
    "ExecuteTime": {
     "end_time": "2017-11-17T22:57:31.873089Z",
     "start_time": "2017-11-17T22:57:31.870686Z"
    }
   },
   "source": [
    "## Скачивание изображений"
   ]
  },
  {
   "cell_type": "code",
   "execution_count": 12,
   "metadata": {
    "ExecuteTime": {
     "end_time": "2017-11-18T10:05:33.516805Z",
     "start_time": "2017-11-18T10:05:31.513673Z"
    },
    "collapsed": true
   },
   "outputs": [],
   "source": [
    "url = 'https://avatars.mds.yandex.net/get-banana/26007/x25RcU6xfkEuNxJWMvVWTqj9_banana_20161021_teaser4-13.png/optimize'\n",
    "response = requests.get(url)\n",
    "with open('img.png', 'wb') as out_file:\n",
    "    out_file.write(response.content)\n",
    "del response"
   ]
  },
  {
   "cell_type": "markdown",
   "metadata": {
    "ExecuteTime": {
     "end_time": "2017-11-17T19:50:46.383024Z",
     "start_time": "2017-11-17T19:50:46.378586Z"
    }
   },
   "source": [
    "## Практика:\n",
    "\n",
    "(3 балла) Найдите почту курса!\n",
    "Загрузите html wiki нашего курса -> разбейте на слова -> для каждого слова проверьте, есть ли в нем символ \"@\". Если есть - это и есть почта курса.\n",
    "\n",
    "https://github.com/magnitofonov/hse-econ-data-analysis-course\n"
   ]
  },
  {
   "cell_type": "code",
   "execution_count": null,
   "metadata": {
    "collapsed": true
   },
   "outputs": [],
   "source": [
    "# такую функцию, чтобы после выполнения команды\n",
    "answer = function('https://github.com/magnitofonov/hse-econ-data-analysis-course')\n",
    "# выражение ниже было истинным\n",
    "answer == 'hse.ec.webmining@gmail.com'"
   ]
  },
  {
   "cell_type": "markdown",
   "metadata": {
    "ExecuteTime": {
     "end_time": "2017-11-17T21:40:32.477933Z",
     "start_time": "2017-11-17T21:40:32.473946Z"
    }
   },
   "source": [
    "### Домашнее задание:\n",
    "\n",
    "1. (3 балла) Загрузите html книги \"Гарри Поттер и методы рационального мышления\" и сохраните в файл. Ссылка: http://hpmor.ru/files/hpmor_ru.html\n",
    "\n",
    "2. (4 балла) Прочтите файл из первого задания (или если не получилось - сохраните файл в браузере). Выведете top100 список слов по упоминаемости\n",
    "\n",
    "3. (4 балла) Скачайте все изображения с первой страницы  новостного сайта lenta.ru. Для этого получите html сайта lenta.ru , найдите все строчки, которые начинаются на \"http: и заканчиваются на .jpg\" . Для каждой такой строчки вызовите код для скачивания (названия у изображений можно брать 1.jpg, 2.jpg и т.д). \n"
   ]
  }
 ],
 "metadata": {
  "kernelspec": {
   "display_name": "Python 3",
   "language": "python",
   "name": "python3"
  },
  "language_info": {
   "codemirror_mode": {
    "name": "ipython",
    "version": 3
   },
   "file_extension": ".py",
   "mimetype": "text/x-python",
   "name": "python",
   "nbconvert_exporter": "python",
   "pygments_lexer": "ipython3",
   "version": "3.6.6"
  }
 },
 "nbformat": 4,
 "nbformat_minor": 2
}
