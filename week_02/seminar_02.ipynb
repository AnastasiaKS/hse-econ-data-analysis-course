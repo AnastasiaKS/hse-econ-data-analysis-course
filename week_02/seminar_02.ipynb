{
 "cells": [
  {
   "cell_type": "markdown",
   "metadata": {},
   "source": [
    "### Разбор последней домашней работы"
   ]
  },
  {
   "cell_type": "markdown",
   "metadata": {},
   "source": [
    "0. Для тех, кто еще неуверенно чувствует себя c Питон, любой онлайн курс + разобраться с тем, что происходило на семинаре. Онлайн курс можно проходить например, на codeacademy, там хорошо и несложно.\n",
    "\n",
    "1. (2 балла) Взять любой текст, скопировать его в строковую переменную (аналогично семинару). Посчитать количество слов, которые встречаются в тексте чаще, чем 3 раза.\n",
    "\n",
    "2. (2 балла) Вероятность того, закончит или не закончит студент некоторый курс, зависит от 3 вещей: интереса к предмету (interest), способностей (talent)  и трудолюбия (diligence). Складываются они по следующей формуле:  \n",
    "Result = interest*0,4 + diligence*0,4 + talent*0,2. Считаем, что интерес, способности и трудолюбие определяются по шкале от 1 до 10; а также что Result больше 10 значит, что студент справится с курсом; а результат менее 10 что студент не справится. На вход вам приходят про конкретного студента эти 3 качества, ответить нужно справится студент с курсом или нет.\n",
    "\n",
    "3. (3 балла) Освободить текст из файла text_first_task.txt от всех символов, которые не буквы и не цифры. Текст можно скопировать в jupyter ноутбук.\n",
    "\n",
    "4. (3 балла) На вход приходит пароль (через input()). Нужно проверить, что в пароле минимум 6 символов разного регистра, есть цифры, буквы и другие символы \n",
    "\n",
    "5. (3 балла) Для текста passwords.txt, в котором есть пароли, найти все пароли. Текст нужно считать из файла\n"
   ]
  },
  {
   "cell_type": "markdown",
   "metadata": {},
   "source": [
    "## Блиц!"
   ]
  },
  {
   "cell_type": "markdown",
   "metadata": {},
   "source": [
    "(3 балла) У вас есть некоторый текст (давайте поверим, что он очень большой). Этот текст - это описание зоопарка, и ваша задача достать (извлечь, намайнить) из него: \n",
    "- общее количество животных в зоопарке\n",
    "- количество животных в зоопарке, которые записаны в красную книгу\n",
    "\n",
    "Сделать это без каких-то изначальных предположений и эвристик было бы очень сложно, поэтому вы подумав (и возможно,пообщались с какими-то полезными людьми, которые хорошо понимают в рассказах о зоопарках) и предположили, следующее:\n",
    "- общее количество животных должно встретиться в тексте где-то перед словом \"animals\" (это не единственный раз, когда в тексте будет написано это слово, но именно такой паттерн \"<int number> animals\" будет присутствовать однажды, и так мы и сможем найти общее число\n",
    "- остальные числа в тексте, меньшие 10 по значению, будут относиться к перечислению редких животных в зоопарке (то есть, сложив их, мы получим нужную сумму)"
   ]
  },
  {
   "cell_type": "markdown",
   "metadata": {},
   "source": [
    "**Доп. задача:** Номер автобусного билета состоит из 6 цифр. Счастливым билетом считаем такой, у которого сумма первых трех цифр равна сумме последних трех цифр. Напишите функцию, которая для данного номера билетика найдет ближайший (в смысле числовой разности) к нему счастливый."
   ]
  },
  {
   "cell_type": "code",
   "execution_count": 19,
   "metadata": {},
   "outputs": [
    {
     "name": "stdout",
     "output_type": "stream",
     "text": [
      "An 0\n",
      "apple 1 An\n",
      "was 2 apple\n",
      "good. 3 was\n",
      "An 4 good.\n",
      "orange 5 An\n",
      "was 6 orange\n",
      "not 7 was\n"
     ]
    }
   ],
   "source": [
    "# for i in range(10):\n",
    "#     print(i + 1)\n",
    "    \n",
    "# for i in 'abcdefg':\n",
    "#     print(i)\n",
    "\n",
    "\n",
    "\n",
    "text = 'An apple was good. An orange was not'\n",
    "text = text.split()\n",
    "\n",
    "i = 0\n",
    "for word in text:\n",
    "    if i > 0:\n",
    "        print(word, i, text[i-1])\n",
    "    else:\n",
    "        print(word, i)\n",
    "    i += 1"
   ]
  },
  {
   "cell_type": "code",
   "execution_count": null,
   "metadata": {
    "collapsed": true
   },
   "outputs": [],
   "source": [
    "i += 1 == i = i + 1\n",
    "i -= 1\n",
    "i *= 2\n",
    "i /= 2"
   ]
  },
  {
   "cell_type": "code",
   "execution_count": 2,
   "metadata": {},
   "outputs": [
    {
     "data": {
      "text/plain": [
       "[0, 1, 2, 3, 4, 5, 6, 7, 8, 9]"
      ]
     },
     "execution_count": 2,
     "metadata": {},
     "output_type": "execute_result"
    }
   ],
   "source": [
    "list(range(10))"
   ]
  },
  {
   "cell_type": "code",
   "execution_count": 21,
   "metadata": {},
   "outputs": [
    {
     "name": "stdout",
     "output_type": "stream",
     "text": [
      "0 An not\n",
      "1 apple An\n",
      "2 was apple\n",
      "3 good. was\n",
      "4 An good.\n",
      "5 orange An\n",
      "6 was orange\n",
      "7 not was\n"
     ]
    }
   ],
   "source": [
    "text = 'An apple was good. An orange was not'\n",
    "text = text.split()\n",
    "\n",
    "for index, word in enumerate(text):\n",
    "    print(index, word, text[index-1])"
   ]
  },
  {
   "cell_type": "code",
   "execution_count": 2,
   "metadata": {},
   "outputs": [],
   "source": [
    "pwd\n",
    "# print workin directory\n",
    "\n",
    "ls\n",
    "# list files"
   ]
  },
  {
   "cell_type": "code",
   "execution_count": 3,
   "metadata": {},
   "outputs": [
    {
     "data": {
      "text/plain": [
       "'/Users/magnitofon/hse-data-analysis/hse-econ-data-analysis-course/week_02'"
      ]
     },
     "execution_count": 3,
     "metadata": {},
     "output_type": "execute_result"
    }
   ],
   "source": [
    "pwd"
   ]
  },
  {
   "cell_type": "code",
   "execution_count": 4,
   "metadata": {},
   "outputs": [
    {
     "name": "stdout",
     "output_type": "stream",
     "text": [
      "filmography.txt   \u001b[31mseminar_02.ipynb\u001b[m\u001b[m* \u001b[31mzoo.txt\u001b[m\u001b[m*\r\n"
     ]
    }
   ],
   "source": [
    "ls"
   ]
  },
  {
   "cell_type": "code",
   "execution_count": 40,
   "metadata": {
    "ExecuteTime": {
     "end_time": "2017-11-18T08:34:41.708387Z",
     "start_time": "2017-11-18T08:34:41.696636Z"
    }
   },
   "outputs": [
    {
     "name": "stdout",
     "output_type": "stream",
     "text": [
      "animals: 2000\n",
      "red_list_animals: 14\n"
     ]
    }
   ],
   "source": [
    "zoo_file = open('C:\\\\Users\\\\student\\\\Desktop\\\\week_02\\\\zoo.txt')\n",
    "text = zoo_file.read()\n",
    "zoo_file.close()\n",
    "\n",
    "\n",
    "split_text = text.split()\n",
    "\n",
    "red_list_animals = 0\n",
    "\n",
    "for index, word in enumerate(text.split()):\n",
    "    if word == 'animals':\n",
    "        previous_word = split_text[index - 1]\n",
    "        if previous_word.isdigit():\n",
    "            print('animals:', previous_word)\n",
    "\n",
    "    if word.isdigit() and int(word) < 10 and \\\n",
    "            split_text[index + 1] != 'animals':\n",
    "        red_list_animals += int(word)\n",
    "        \n",
    "print('red_list_animals:', red_list_animals)"
   ]
  },
  {
   "cell_type": "code",
   "execution_count": 81,
   "metadata": {
    "ExecuteTime": {
     "end_time": "2017-11-18T08:17:11.795264Z",
     "start_time": "2017-11-18T08:17:11.790334Z"
    }
   },
   "outputs": [
    {
     "name": "stdout",
     "output_type": "stream",
     "text": [
      "The Detroit Zoo is home to animals from A to Z, including anteaters and zebras and hundreds of other species in between.\n",
      "More than 2000 animals representing over amphibians, mammals, birds and reptiles live in the Zoo’s\n",
      "humdred acres of true-to-life habitats that bring visitors face-to-face with these exotic creatures. There are also some\n",
      "animals from the IUCN Red List:  6 Lemurs, 5 langurs, 10 borean pigs and 3 Philippine dears.\n",
      "\n"
     ]
    }
   ],
   "source": [
    "print(text)"
   ]
  },
  {
   "cell_type": "markdown",
   "metadata": {},
   "source": [
    "## Еще немного про способы работы с файлами: "
   ]
  },
  {
   "cell_type": "code",
   "execution_count": 53,
   "metadata": {
    "collapsed": true
   },
   "outputs": [],
   "source": [
    "with open('zoo.txt') as zoo_file:\n",
    "    text = zoo_file.read()"
   ]
  },
  {
   "cell_type": "code",
   "execution_count": 46,
   "metadata": {},
   "outputs": [
    {
     "name": "stdout",
     "output_type": "stream",
     "text": [
      "\n"
     ]
    }
   ],
   "source": [
    "print(text2)"
   ]
  },
  {
   "cell_type": "code",
   "execution_count": 52,
   "metadata": {
    "ExecuteTime": {
     "end_time": "2017-11-18T08:40:22.815714Z",
     "start_time": "2017-11-18T08:40:22.808545Z"
    }
   },
   "outputs": [
    {
     "name": "stdout",
     "output_type": "stream",
     "text": [
      "The Detroit Zoo \n"
     ]
    }
   ],
   "source": [
    "#конструкция with позаботится об автоматическом закрытии файла, readline позволяет читать файл по строке\n",
    "with open('zoo.txt') as zoo_file:\n",
    "    print(zoo_file.readline(16))"
   ]
  },
  {
   "cell_type": "code",
   "execution_count": 54,
   "metadata": {
    "ExecuteTime": {
     "end_time": "2017-11-18T08:41:20.363795Z",
     "start_time": "2017-11-18T08:41:20.358366Z"
    }
   },
   "outputs": [
    {
     "name": "stdout",
     "output_type": "stream",
     "text": [
      "The Detroit Zoo is home to animals from A to Z, including anteaters and zebras and hundreds of other species in between.\n",
      "\n",
      "More than 2000 animals representing over amphibians, mammals, birds and reptiles live in the ZooвЂ™s\n",
      "\n",
      "humdred acres of true-to-life habitats that bring visitors face-to-face with these exotic creatures. There are also some\n",
      "\n",
      "animals from the IUCN Red List:  6 Lemurs, 5 langurs, 10 borean pigs and 3 Philippine dears.\n",
      "\n"
     ]
    }
   ],
   "source": [
    "#вы также можете итерироваться по строкам\n",
    "with open('zoo.txt') as f:\n",
    "    for line in f:\n",
    "        print(line)\n",
    "#         print('something else')"
   ]
  },
  {
   "cell_type": "code",
   "execution_count": 59,
   "metadata": {
    "ExecuteTime": {
     "end_time": "2017-11-18T08:42:35.155275Z",
     "start_time": "2017-11-18T08:42:35.149597Z"
    },
    "collapsed": true
   },
   "outputs": [],
   "source": [
    "#можно создать новый файл/открыть файл на запись (но будте осторожны!)\n",
    "\n",
    "# w - write\n",
    "# a - append\n",
    "\n",
    "f = open('test_file_01.txt', 'w')\n",
    " \n",
    "f.write('Hello World! ')\n",
    "f.write('My name is Katya!\\n')\n",
    "f.write('This is our new text file\\n')\n",
    "f.write('and this is another line.\\n')\n",
    "f.write('Why? Because we can.')\n",
    " \n",
    "f.close() "
   ]
  },
  {
   "cell_type": "code",
   "execution_count": 61,
   "metadata": {},
   "outputs": [],
   "source": [
    "#можно создать новый файл/открыть файл на запись (но будте осторожны!)\n",
    "\n",
    "# w - write\n",
    "# a - append\n",
    "\n",
    "with open('test_file_01.txt', 'w') as f:\n",
    "    f.write('Hello World! ')\n",
    "    f.write('My name is Katya!\\n')\n",
    "    f.write('This is our new text file\\n')\n",
    "    f.write('and this is another line.\\n')\n",
    "    f.write('Why? Because we can.')"
   ]
  },
  {
   "cell_type": "code",
   "execution_count": 106,
   "metadata": {
    "ExecuteTime": {
     "end_time": "2017-11-18T08:43:42.603427Z",
     "start_time": "2017-11-18T08:43:42.597221Z"
    },
    "collapsed": true
   },
   "outputs": [],
   "source": [
    "f = open('test_file_02.txt','w') \n",
    " \n",
    "print('Hello', file=f)\n",
    "print(2**8, file=f)\n",
    "\n",
    "f.close()"
   ]
  },
  {
   "cell_type": "code",
   "execution_count": 63,
   "metadata": {
    "collapsed": true
   },
   "outputs": [],
   "source": [
    "with open('test_file_02.txt','w') as f:\n",
    "    print('Hello', file=f)\n",
    "    print(2**8, file=f)\n",
    "    print(2**9, file=f)\n",
    "    print('Hello', file=f)\n",
    "    print('Hello', file=f)\n",
    "    print('Hello', file=f)"
   ]
  },
  {
   "cell_type": "markdown",
   "metadata": {},
   "source": [
    "Для записи можно использовать методы write и print и не забывать при открытии файла выставить моду записи \"w\". Однако нужно быть аккуратными - если вы откроете существующий файл с модой записи \"w\" все данные оттуда сотрутся. Чтобы открыть файл на дозапись, вместо буквы \"w\" нужно поставить букву \"а\""
   ]
  },
  {
   "cell_type": "markdown",
   "metadata": {},
   "source": [
    "К слову о дозаписи:"
   ]
  },
  {
   "cell_type": "code",
   "execution_count": 64,
   "metadata": {
    "ExecuteTime": {
     "end_time": "2017-11-18T08:44:52.380479Z",
     "start_time": "2017-11-18T08:44:52.377029Z"
    },
    "collapsed": true
   },
   "outputs": [],
   "source": [
    "fo = open('animals_count.txt', 'a')\n",
    "print('Heeey I can write something without deleting whole file!', \n",
    "      file=fo)\n",
    "fo.close()"
   ]
  },
  {
   "cell_type": "markdown",
   "metadata": {},
   "source": [
    "### key points\n",
    "\n",
    "* считывание файла\n",
    "* запись файла: перезаписывание информации и добавление информации в конец\n",
    "* более правильный и короткий подход через парадигму with open"
   ]
  },
  {
   "cell_type": "markdown",
   "metadata": {},
   "source": [
    "## dict - Словари"
   ]
  },
  {
   "cell_type": "code",
   "execution_count": 81,
   "metadata": {
    "ExecuteTime": {
     "end_time": "2017-11-18T08:46:20.802800Z",
     "start_time": "2017-11-18T08:46:20.796760Z"
    }
   },
   "outputs": [
    {
     "name": "stdout",
     "output_type": "stream",
     "text": [
      "{'Голубев': '27384927539', 'ambulance': '03'}\n"
     ]
    }
   ],
   "source": [
    "my_dict = dict([['Голубев', '27384927539'], ('ambulance', '03')])\n",
    "print(my_dict)"
   ]
  },
  {
   "cell_type": "code",
   "execution_count": 82,
   "metadata": {
    "ExecuteTime": {
     "end_time": "2017-11-18T08:46:58.753777Z",
     "start_time": "2017-11-18T08:46:58.750507Z"
    },
    "collapsed": true
   },
   "outputs": [],
   "source": [
    "phones = {'police': 102, 'ambulance': 103, 'firefighters': 101}"
   ]
  },
  {
   "cell_type": "code",
   "execution_count": 70,
   "metadata": {
    "ExecuteTime": {
     "end_time": "2017-11-17T20:32:11.697057Z",
     "start_time": "2017-11-17T20:32:11.693897Z"
    }
   },
   "outputs": [
    {
     "data": {
      "text/plain": [
       "102"
      ]
     },
     "execution_count": 70,
     "metadata": {},
     "output_type": "execute_result"
    }
   ],
   "source": [
    "phones['police']"
   ]
  },
  {
   "cell_type": "code",
   "execution_count": 6,
   "metadata": {},
   "outputs": [],
   "source": [
    "# добавить к my_dict ключи-значения из phones\n",
    "my_dict.update(phones)"
   ]
  },
  {
   "cell_type": "code",
   "execution_count": 84,
   "metadata": {},
   "outputs": [
    {
     "data": {
      "text/plain": [
       "{'ambulance': 103,\n",
       " 'firefighters': 101,\n",
       " 'police': 102,\n",
       " 'Голубев': '27384927539'}"
      ]
     },
     "execution_count": 84,
     "metadata": {},
     "output_type": "execute_result"
    }
   ],
   "source": [
    "my_dict"
   ]
  },
  {
   "cell_type": "code",
   "execution_count": 73,
   "metadata": {
    "ExecuteTime": {
     "end_time": "2017-11-17T20:32:40.493986Z",
     "start_time": "2017-11-17T20:32:40.490546Z"
    }
   },
   "outputs": [
    {
     "data": {
      "text/plain": [
       "['police', 'ambulance', 'firefighters']"
      ]
     },
     "execution_count": 73,
     "metadata": {},
     "output_type": "execute_result"
    }
   ],
   "source": [
    "list(phones.keys())"
   ]
  },
  {
   "cell_type": "code",
   "execution_count": 75,
   "metadata": {
    "ExecuteTime": {
     "end_time": "2017-11-18T08:48:09.230210Z",
     "start_time": "2017-11-18T08:48:09.225211Z"
    }
   },
   "outputs": [
    {
     "data": {
      "text/plain": [
       "[102, 103, 101]"
      ]
     },
     "execution_count": 75,
     "metadata": {},
     "output_type": "execute_result"
    }
   ],
   "source": [
    "list(phones.values())"
   ]
  },
  {
   "cell_type": "code",
   "execution_count": 26,
   "metadata": {
    "ExecuteTime": {
     "end_time": "2017-11-17T21:33:28.490527Z",
     "start_time": "2017-11-17T21:33:28.486351Z"
    }
   },
   "outputs": [
    {
     "data": {
      "text/plain": [
       "dict_items([('police', 102), ('ambulance', 103), ('firefighters', 101)])"
      ]
     },
     "execution_count": 26,
     "metadata": {},
     "output_type": "execute_result"
    }
   ],
   "source": [
    "phones.items()"
   ]
  },
  {
   "cell_type": "code",
   "execution_count": 90,
   "metadata": {
    "ExecuteTime": {
     "end_time": "2017-11-17T21:59:14.804776Z",
     "start_time": "2017-11-17T21:59:14.800974Z"
    }
   },
   "outputs": [
    {
     "name": "stdout",
     "output_type": "stream",
     "text": [
      "police 102\n",
      "ambulance 103\n",
      "firefighters 101\n"
     ]
    }
   ],
   "source": [
    "for item in phones.items():\n",
    "    key, val = item\n",
    "    print(key, val)"
   ]
  },
  {
   "cell_type": "code",
   "execution_count": 94,
   "metadata": {},
   "outputs": [
    {
     "name": "stdout",
     "output_type": "stream",
     "text": [
      "1 2\n"
     ]
    }
   ],
   "source": [
    "# \"распечатывание\" кортежей (списков, строк) на отдельные переменные\n",
    "a, b, _, _ = (1, 2, 3, 4)\n",
    "print(a,b)"
   ]
  },
  {
   "cell_type": "code",
   "execution_count": null,
   "metadata": {
    "collapsed": true
   },
   "outputs": [],
   "source": [
    "for key in phones.items():\n",
    "    print(key)"
   ]
  },
  {
   "cell_type": "code",
   "execution_count": 28,
   "metadata": {
    "ExecuteTime": {
     "end_time": "2017-11-17T21:33:52.203502Z",
     "start_time": "2017-11-17T21:33:52.199682Z"
    }
   },
   "outputs": [
    {
     "name": "stdout",
     "output_type": "stream",
     "text": [
      "police 102\n",
      "ambulance 103\n",
      "firefighters 101\n"
     ]
    }
   ],
   "source": [
    "for key, value in phones.items():\n",
    "    print(key, value)"
   ]
  },
  {
   "cell_type": "markdown",
   "metadata": {
    "ExecuteTime": {
     "end_time": "2017-11-17T20:32:59.669463Z",
     "start_time": "2017-11-17T20:32:59.666668Z"
    }
   },
   "source": [
    "### defaultdict and Counter from collections"
   ]
  },
  {
   "cell_type": "code",
   "execution_count": 9,
   "metadata": {},
   "outputs": [],
   "source": [
    "from collections import defaultdict, Counter"
   ]
  },
  {
   "cell_type": "code",
   "execution_count": 11,
   "metadata": {},
   "outputs": [
    {
     "name": "stdout",
     "output_type": "stream",
     "text": [
      "[('and', 4), ('animals', 3), ('to', 2), ('from', 2), ('of', 2), ('in', 2), ('the', 2), ('The', 1), ('Detroit', 1), ('Zoo', 1)]\n"
     ]
    }
   ],
   "source": [
    "with open('zoo.txt') as zoo_file:\n",
    "    text = zoo_file.read()\n",
    "    \n",
    "print(Counter(text.split()).most_common(10))"
   ]
  },
  {
   "cell_type": "code",
   "execution_count": 179,
   "metadata": {},
   "outputs": [],
   "source": [
    "slovar = {1: 'asdasd', 2: 3, 3: 1}\n",
    "kounter = Counter(slovar)"
   ]
  },
  {
   "cell_type": "code",
   "execution_count": 181,
   "metadata": {
    "collapsed": true
   },
   "outputs": [],
   "source": [
    "a = Counter()\n",
    "a = defaultdict(int)"
   ]
  },
  {
   "cell_type": "code",
   "execution_count": 185,
   "metadata": {},
   "outputs": [],
   "source": [
    "a = list()"
   ]
  },
  {
   "cell_type": "code",
   "execution_count": 186,
   "metadata": {},
   "outputs": [
    {
     "data": {
      "text/plain": [
       "[]"
      ]
     },
     "execution_count": 186,
     "metadata": {},
     "output_type": "execute_result"
    }
   ],
   "source": [
    "a"
   ]
  },
  {
   "cell_type": "code",
   "execution_count": 177,
   "metadata": {},
   "outputs": [
    {
     "data": {
      "text/plain": [
       "Counter({1: 'asdasd', 2: 3, 3: 1})"
      ]
     },
     "execution_count": 177,
     "metadata": {},
     "output_type": "execute_result"
    }
   ],
   "source": [
    "kounter"
   ]
  },
  {
   "cell_type": "code",
   "execution_count": 166,
   "metadata": {},
   "outputs": [
    {
     "data": {
      "text/plain": [
       "Counter({1: 4, 2: 3, 3: 1})"
      ]
     },
     "execution_count": 166,
     "metadata": {},
     "output_type": "execute_result"
    }
   ],
   "source": [
    "a"
   ]
  },
  {
   "cell_type": "code",
   "execution_count": 167,
   "metadata": {},
   "outputs": [],
   "source": [
    "a = {1: 4, 2: 3, 3: 1}"
   ]
  },
  {
   "cell_type": "code",
   "execution_count": 168,
   "metadata": {},
   "outputs": [
    {
     "data": {
      "text/plain": [
       "{1: 4, 2: 3, 3: 1}"
      ]
     },
     "execution_count": 168,
     "metadata": {},
     "output_type": "execute_result"
    }
   ],
   "source": [
    "a"
   ]
  },
  {
   "cell_type": "code",
   "execution_count": 169,
   "metadata": {},
   "outputs": [
    {
     "ename": "KeyError",
     "evalue": "10",
     "output_type": "error",
     "traceback": [
      "\u001b[0;31m---------------------------------------------------------------------------\u001b[0m",
      "\u001b[0;31mKeyError\u001b[0m                                  Traceback (most recent call last)",
      "\u001b[0;32m<ipython-input-169-5c463c0247cc>\u001b[0m in \u001b[0;36m<module>\u001b[0;34m()\u001b[0m\n\u001b[0;32m----> 1\u001b[0;31m \u001b[0ma\u001b[0m\u001b[1;33m[\u001b[0m\u001b[1;36m10\u001b[0m\u001b[1;33m]\u001b[0m\u001b[1;33m\u001b[0m\u001b[0m\n\u001b[0m",
      "\u001b[0;31mKeyError\u001b[0m: 10"
     ]
    }
   ],
   "source": [
    "a[10]"
   ]
  },
  {
   "cell_type": "code",
   "execution_count": 102,
   "metadata": {},
   "outputs": [],
   "source": [
    "text = text.lower()\n",
    "for punct in ',.!;':\n",
    "    text = text.replace(punct, '')\n",
    "    \n",
    "text_list = text.split()\n",
    "\n",
    "word_counts = Counter(text_list)"
   ]
  },
  {
   "cell_type": "code",
   "execution_count": 107,
   "metadata": {
    "collapsed": true
   },
   "outputs": [],
   "source": [
    "a = Counter({'яблоки' : 115})"
   ]
  },
  {
   "cell_type": "code",
   "execution_count": 105,
   "metadata": {
    "collapsed": true
   },
   "outputs": [],
   "source": [
    "a['яблоки'] = 10"
   ]
  },
  {
   "cell_type": "code",
   "execution_count": 108,
   "metadata": {},
   "outputs": [
    {
     "data": {
      "text/plain": [
       "Counter({'яблоки': 115})"
      ]
     },
     "execution_count": 108,
     "metadata": {},
     "output_type": "execute_result"
    }
   ],
   "source": [
    "a"
   ]
  },
  {
   "cell_type": "code",
   "execution_count": 116,
   "metadata": {},
   "outputs": [
    {
     "data": {
      "text/plain": [
       "[('dears', 1), ('philippine', 1), ('3', 1)]"
      ]
     },
     "execution_count": 116,
     "metadata": {},
     "output_type": "execute_result"
    }
   ],
   "source": [
    "# меньшие по встречаемости\n",
    "word_counts.most_common()[::-1][:3]"
   ]
  },
  {
   "cell_type": "code",
   "execution_count": 121,
   "metadata": {},
   "outputs": [],
   "source": [
    "word_counts['холодильник'] += 1"
   ]
  },
  {
   "cell_type": "code",
   "execution_count": 139,
   "metadata": {},
   "outputs": [],
   "source": [
    "a = defaultdict(list)\n",
    "a.update({'police': 102, 'ambulance': 103, 'firefighters': 101})\n"
   ]
  },
  {
   "cell_type": "code",
   "execution_count": 145,
   "metadata": {},
   "outputs": [],
   "source": [
    "animals = ['cat', 'tiger']\n",
    "\n",
    "text = 'asdashf adsgfjsd hglahsd l bad cat fasjdfg;lasg good cat afdasfasgd evil tiger'\n",
    "text = text.split()\n",
    "animal_properties = defaultdict(list)\n",
    "\n",
    "for index, el in enumerate(text):\n",
    "    if el in animals:\n",
    "        animal_properties[el].append(text[index - 1])"
   ]
  },
  {
   "cell_type": "code",
   "execution_count": 151,
   "metadata": {
    "collapsed": true
   },
   "outputs": [],
   "source": [
    "animal_properties = defaultdict(list)"
   ]
  },
  {
   "cell_type": "code",
   "execution_count": 149,
   "metadata": {
    "collapsed": true
   },
   "outputs": [],
   "source": [
    "animal_properties = {}"
   ]
  },
  {
   "cell_type": "code",
   "execution_count": 153,
   "metadata": {},
   "outputs": [],
   "source": [
    "animal_properties['cat'].append(2)"
   ]
  },
  {
   "cell_type": "code",
   "execution_count": 154,
   "metadata": {},
   "outputs": [
    {
     "data": {
      "text/plain": [
       "defaultdict(list, {'cat': [2]})"
      ]
     },
     "execution_count": 154,
     "metadata": {},
     "output_type": "execute_result"
    }
   ],
   "source": [
    "animal_properties"
   ]
  },
  {
   "cell_type": "code",
   "execution_count": 8,
   "metadata": {
    "ExecuteTime": {
     "end_time": "2017-11-17T21:37:02.274654Z",
     "start_time": "2017-11-17T21:37:02.263455Z"
    }
   },
   "outputs": [],
   "source": [
    "from collections import defaultdict, Counter\n",
    "new_phones = defaultdict(int)\n",
    "phones['Kate']\n",
    "new_phones['Kate']"
   ]
  },
  {
   "cell_type": "code",
   "execution_count": 9,
   "metadata": {
    "collapsed": true
   },
   "outputs": [],
   "source": [
    "from collections import Counter"
   ]
  },
  {
   "cell_type": "markdown",
   "metadata": {},
   "source": [
    "defaultdict(int) - это то же самое, что и Counter. значение по умолчанию 0, то есть если ключа нет в словаре - возвращает 0.\n",
    "\n",
    "defaultdict(list) - значение по умолчанию - пустой список, то есть если ключ отсутсвует, возвращает пустой список."
   ]
  },
  {
   "cell_type": "markdown",
   "metadata": {},
   "source": [
    "### key points\n",
    "\n",
    "* тип данные словарь (dict)\n",
    "* обобщение словаря, Counter - удобен для подсёчта вхождений чего-нибудь куда-нибудь. Метод most_common\n",
    "* обобщение словаря, defaultdict\n"
   ]
  },
  {
   "cell_type": "markdown",
   "metadata": {},
   "source": [
    "## Функция sorted"
   ]
  },
  {
   "cell_type": "code",
   "execution_count": 192,
   "metadata": {
    "ExecuteTime": {
     "end_time": "2017-11-17T22:00:28.058818Z",
     "start_time": "2017-11-17T22:00:28.053661Z"
    }
   },
   "outputs": [],
   "source": [
    "my_list = [4, 5, 1, -100, 1, 2, 5]"
   ]
  },
  {
   "cell_type": "code",
   "execution_count": 188,
   "metadata": {},
   "outputs": [
    {
     "data": {
      "text/plain": [
       "[-100, 1, 1, 2, 4, 5, 5]"
      ]
     },
     "execution_count": 188,
     "metadata": {},
     "output_type": "execute_result"
    }
   ],
   "source": [
    "sorted(my_list) # возвращает отсортированный список\n",
    "my_list.sort() # ничего не возвращает: сортирует переменную на месте"
   ]
  },
  {
   "cell_type": "code",
   "execution_count": 198,
   "metadata": {},
   "outputs": [
    {
     "data": {
      "text/plain": [
       "False"
      ]
     },
     "execution_count": 198,
     "metadata": {},
     "output_type": "execute_result"
    }
   ],
   "source": []
  },
  {
   "cell_type": "code",
   "execution_count": 199,
   "metadata": {
    "ExecuteTime": {
     "end_time": "2017-11-17T22:12:49.766900Z",
     "start_time": "2017-11-17T22:12:49.761999Z"
    }
   },
   "outputs": [
    {
     "data": {
      "text/plain": [
       "['', 'A', '_', 'a', 'aa', 'ab']"
      ]
     },
     "execution_count": 199,
     "metadata": {},
     "output_type": "execute_result"
    }
   ],
   "source": [
    "my_lines = ['aa', 'a', 'ab', '', '_', 'A']\n",
    "sorted(my_lines)"
   ]
  },
  {
   "cell_type": "code",
   "execution_count": 200,
   "metadata": {
    "ExecuteTime": {
     "end_time": "2017-11-18T09:16:15.917700Z",
     "start_time": "2017-11-18T09:16:15.909988Z"
    }
   },
   "outputs": [
    {
     "data": {
      "text/plain": [
       "{-100: 'z', 1: 'd', 2: 'e', 4: 'a', 5: 'k'}"
      ]
     },
     "execution_count": 200,
     "metadata": {},
     "output_type": "execute_result"
    }
   ],
   "source": [
    "my_dict = {4: 'a', 5: 'c', 1: 'a', -100: 'z', 1: 'd', 2: 'e', 5: 'k'}\n",
    "my_dict"
   ]
  },
  {
   "cell_type": "code",
   "execution_count": 201,
   "metadata": {
    "ExecuteTime": {
     "end_time": "2017-11-18T09:16:17.325128Z",
     "start_time": "2017-11-18T09:16:17.319785Z"
    }
   },
   "outputs": [
    {
     "data": {
      "text/plain": [
       "[-100, 1, 2, 4, 5]"
      ]
     },
     "execution_count": 201,
     "metadata": {},
     "output_type": "execute_result"
    }
   ],
   "source": [
    "sorted(my_dict)"
   ]
  },
  {
   "cell_type": "code",
   "execution_count": 118,
   "metadata": {
    "ExecuteTime": {
     "end_time": "2017-11-18T09:16:18.279931Z",
     "start_time": "2017-11-18T09:16:18.273514Z"
    }
   },
   "outputs": [
    {
     "data": {
      "text/plain": [
       "['a', 'd', 'e', 'k', 'z']"
      ]
     },
     "execution_count": 118,
     "metadata": {},
     "output_type": "execute_result"
    }
   ],
   "source": [
    "sorted(my_dict.values())"
   ]
  },
  {
   "cell_type": "code",
   "execution_count": 119,
   "metadata": {
    "ExecuteTime": {
     "end_time": "2017-11-18T09:17:27.690762Z",
     "start_time": "2017-11-18T09:17:27.686502Z"
    }
   },
   "outputs": [
    {
     "data": {
      "text/plain": [
       "dict_items([(4, 'a'), (5, 'k'), (1, 'd'), (-100, 'z'), (2, 'e')])"
      ]
     },
     "execution_count": 119,
     "metadata": {},
     "output_type": "execute_result"
    }
   ],
   "source": [
    "my_dict.items()"
   ]
  },
  {
   "cell_type": "code",
   "execution_count": 43,
   "metadata": {
    "ExecuteTime": {
     "end_time": "2017-11-17T22:00:56.244649Z",
     "start_time": "2017-11-17T22:00:56.240231Z"
    }
   },
   "outputs": [
    {
     "data": {
      "text/plain": [
       "[(-100, 'z'), (1, 'd'), (2, 'e'), (4, 'a'), (5, 'k')]"
      ]
     },
     "execution_count": 43,
     "metadata": {},
     "output_type": "execute_result"
    }
   ],
   "source": [
    "sorted(my_dict.items())"
   ]
  },
  {
   "cell_type": "code",
   "execution_count": 46,
   "metadata": {
    "ExecuteTime": {
     "end_time": "2017-11-17T22:01:14.310436Z",
     "start_time": "2017-11-17T22:01:14.305866Z"
    }
   },
   "outputs": [
    {
     "data": {
      "text/plain": [
       "[(5, 'k'), (4, 'a'), (2, 'e'), (1, 'd'), (-100, 'z')]"
      ]
     },
     "execution_count": 46,
     "metadata": {},
     "output_type": "execute_result"
    }
   ],
   "source": [
    "sorted(my_dict.items(), reverse=True)"
   ]
  },
  {
   "cell_type": "markdown",
   "metadata": {},
   "source": [
    "Иногда хочется отсортировать, скажем, список из кортежей по второму элементу (по умолчанию сортировка идет по первому)"
   ]
  },
  {
   "cell_type": "code",
   "execution_count": 202,
   "metadata": {
    "ExecuteTime": {
     "end_time": "2017-11-17T22:02:48.961649Z",
     "start_time": "2017-11-17T22:02:48.958707Z"
    },
    "collapsed": true
   },
   "outputs": [],
   "source": [
    "def get_second_elem(x):\n",
    "    return x[1]"
   ]
  },
  {
   "cell_type": "code",
   "execution_count": 49,
   "metadata": {
    "ExecuteTime": {
     "end_time": "2017-11-17T22:02:49.549085Z",
     "start_time": "2017-11-17T22:02:49.544725Z"
    }
   },
   "outputs": [
    {
     "data": {
      "text/plain": [
       "[(4, 'a'), (1, 'd'), (2, 'e'), (5, 'k'), (-100, 'z')]"
      ]
     },
     "execution_count": 49,
     "metadata": {},
     "output_type": "execute_result"
    }
   ],
   "source": [
    "sorted(my_dict.items(), key=get_seconda_elem)"
   ]
  },
  {
   "cell_type": "code",
   "execution_count": 204,
   "metadata": {
    "collapsed": true
   },
   "outputs": [],
   "source": [
    "# lambda-функции - инструмент для быстрого определения простых функций\n",
    "get_second_elem = lambda x : x[1]"
   ]
  },
  {
   "cell_type": "code",
   "execution_count": 13,
   "metadata": {},
   "outputs": [
    {
     "name": "stdout",
     "output_type": "stream",
     "text": [
      "25\n"
     ]
    }
   ],
   "source": [
    "square = lambda x: x**2\n",
    "print(square(5))"
   ]
  },
  {
   "cell_type": "code",
   "execution_count": 15,
   "metadata": {},
   "outputs": [],
   "source": [
    "sorted(my_dict.items(), key=lambda x : x[1])"
   ]
  },
  {
   "cell_type": "code",
   "execution_count": null,
   "metadata": {
    "collapsed": true
   },
   "outputs": [],
   "source": [
    "sorted(korobki, key=lambda x : x[2])"
   ]
  },
  {
   "cell_type": "code",
   "execution_count": 50,
   "metadata": {
    "ExecuteTime": {
     "end_time": "2017-11-17T22:02:51.549772Z",
     "start_time": "2017-11-17T22:02:51.545281Z"
    }
   },
   "outputs": [
    {
     "data": {
      "text/plain": [
       "[(4, 'a'), (1, 'd'), (2, 'e'), (5, 'k'), (-100, 'z')]"
      ]
     },
     "execution_count": 50,
     "metadata": {},
     "output_type": "execute_result"
    }
   ],
   "source": [
    "sorted(my_dict.items(), key=lambda x: x[1])"
   ]
  },
  {
   "cell_type": "markdown",
   "metadata": {},
   "source": [
    "### key points\n",
    "\n",
    "* функция sorted\n",
    "* лямбда-функции\n",
    "* сортировка по произвольному ключу\n"
   ]
  },
  {
   "cell_type": "markdown",
   "metadata": {},
   "source": [
    "## Практика: 13:07-13:37\n",
    "\n",
    "1. (1 балл) Создайте словарь superhero_ranks. Назначьте значение 2 Аквамену и значение 1 Супермену\n",
    "\n",
    "2. (3 балла) Дан список целых чисел. Сформировать словарь, в котором ключами будут числа, а значенями - количество употреблений данных чисел в списке. Например, если дан список [1, 1, 3, 2, 1, 3, 4], то в нем число 1 встречается три раза, число 3 - два раза, числа 2 и 4 - по одному разу.\n",
    "\n",
    "3. (2 балла) Дана фильмография актера. Отсортируйте фильмы по годам от новых к старым:\n",
    "\n",
    "Для 3 задачи копируйте содержимое файла https://raw.githubusercontent.com/magnitofonov/hse-econ-data-analysis-course/master/week_02/filmography.txt"
   ]
  },
  {
   "cell_type": "code",
   "execution_count": 56,
   "metadata": {
    "ExecuteTime": {
     "end_time": "2017-11-17T22:18:26.729985Z",
     "start_time": "2017-11-17T22:18:26.721428Z"
    },
    "collapsed": true
   },
   "outputs": [],
   "source": [
    "movies = \"\"\"1983  ф Резиновое лицо  Rubberface (Introducting… Janet)  Тони Морони\n",
    "2000  ф Я, снова я и Ирэн Me, Myself and Irene  Офицер Чарли Бэйлигейтс/Хэнк\n",
    "2008  ф Всегда говори «Да»  Yes man Карл Аллен\n",
    "1989  ф Земные девушки легко доступны Earth Girls Are Easy  Уиплок\n",
    "1988  ф Смертельный список  The Dead Pool Джонни Squares\n",
    "2011  с Офис  The Office  Парень из Пальцевых Озер (одна серия)\n",
    "2009  ф Я люблю тебя, Филлип Моррис I Love You Phillip Morris Стив Рассел\n",
    "1983  ф Всё в хорошем вкусе All in Good Taste Ральф\n",
    "2009  мф  Рождественская история  A Christmas Carol Эбенезер Скрудж, призраки\n",
    "1984 — 1984 с Утиная фабрика  The Duck Factory  Скип Таркентон\n",
    "2007  ф Роковое число 23  Number 23 Уолтер Спэрроу\n",
    "2017  ф Джим и Энди - великое запределье  Оригинальное название неизвестно\n",
    "2008  мф  Хортон  Horton Hears a Who! Хортон (голос)\n",
    "2003  ф Брюс всемогущий Bruce Almighty  Брюс Нолан\n",
    "1996  ф Кабельщик The Cable Guy Кабельщик/Чип/Рики\n",
    "2009  ф Под морем в 3D  Under the Sea 3D  рассказчик\n",
    "2013  ф Невероятный Бёрт Уандерстоун  Burt Wonderstone  Стив Грэй\n",
    "1989  ф Розовый кадиллак  Pink Cadillac Комедиант\n",
    "2013  ф Телеведущий 2 Anchorman: The Legend Continues ведущий Скотт Райлс\n",
    "1999  ф Человек на Луне Man on the Moon Энди Кауфман/Тони Клифтон\n",
    "1994  ф Маска The Mask  Стэнли Ипкисс\n",
    "2011  ф Пингвины мистера Поппера  Mr. Popper’s Penguins Том Поппер\n",
    "2000  ф Гринч — похититель Рождества  How the Grinch Stole Christmas  Гринч\n",
    "1986  ф Пегги Сью вышла замуж Peggy Sue Got Married Уолтер Гетц\n",
    "1998  ф Шоу Трумана The Truman Show Трумэн Бёрбэнк\n",
    "1983  ф Гора Куппер Copper Mountain Бобби Тодд\n",
    "2013  ф Пипец 2 Kick-Ass 2  Полковник Америка\n",
    "1985  ф Однажды укушенный Once Bitten Марк Кендэлл\n",
    "2005  ф Аферисты Дик и Джейн  Fun with Dick and Jane  Дик Харпер\n",
    "1995  ф Бэтмен навсегда Batman Forever  Эдвард Нигма/Загадочник\n",
    "1990 — 1994 с В живом цвете In Living Color Различные роли\n",
    "1984  ф Чур, мое! Finders Keepers Лэйн Бидлекофф\n",
    "1995  ф Эйс Вентура 2: Когда зовёт природа  Ace Ventura: When Nature Calls  Эйс Вентура\n",
    "2016  ф Настоящее преступление  True Crimes Джек\n",
    "1993  ф Эйс Вентура: Розыск домашних животных Ace Ventura: Pet Detective  Эйс Вентура\n",
    "2016  ф Плохая партия The Bad Batch Питер\n",
    "2001  ф Мажестик  The Majestic  Питер Эпплтон\n",
    "1991  ф Нервы на пределе  High Strung Смерть\n",
    "2004  ф Лемони Сникет: 33 несчастья Lemony Snicket’s A Series of Unfortunate Events Граф Олаф\n",
    "2004  ф Вечное сияние чистого разума  Eternal Sunshine of the Spotless Mind Джоел Бэриш\n",
    "1997  ф Лжец, лжец  Liar Liar Флетчер Рид\n",
    "1992  мф  Крошечный паучок  Itsy Bitsy Spider Истребитель насекомых (голос)\n",
    "1992  ф Жизнь на Мэйпл-Драйв (ТВ) Doing Time on Maple Drive Тим Картер\n",
    "2014  ф Тупой и ещё тупее 2 Dumb & Dumber 2 Ллойд Кристмас\n",
    "1998  ф Саймон Бирч Simon Birch Взрослый Джо Вентеуорф\n",
    "1994  ф Тупой и ещё тупее Dumb & Dumber Ллойд Кристмас\"\"\""
   ]
  },
  {
   "cell_type": "markdown",
   "metadata": {},
   "source": [
    "## Библиотека requests"
   ]
  },
  {
   "cell_type": "code",
   "execution_count": 1,
   "metadata": {
    "ExecuteTime": {
     "end_time": "2017-11-18T09:57:28.343211Z",
     "start_time": "2017-11-18T09:57:27.138125Z"
    }
   },
   "outputs": [],
   "source": [
    "import requests\n",
    "response = requests.get('https://yandex.ru')"
   ]
  },
  {
   "cell_type": "code",
   "execution_count": 18,
   "metadata": {},
   "outputs": [
    {
     "data": {
      "text/plain": [
       "True"
      ]
     },
     "execution_count": 18,
     "metadata": {},
     "output_type": "execute_result"
    }
   ],
   "source": [
    "# status_code равный 200, значит, что страница прочиталась хорошо\n",
    "response.status_code == 200"
   ]
  },
  {
   "cell_type": "code",
   "execution_count": 214,
   "metadata": {},
   "outputs": [],
   "source": [
    "response_test = response.text"
   ]
  },
  {
   "cell_type": "code",
   "execution_count": 223,
   "metadata": {},
   "outputs": [
    {
     "data": {
      "text/plain": [
       "109518"
      ]
     },
     "execution_count": 223,
     "metadata": {},
     "output_type": "execute_result"
    }
   ],
   "source": [
    "response_test.find('Mr.Ricco')"
   ]
  },
  {
   "cell_type": "code",
   "execution_count": 229,
   "metadata": {},
   "outputs": [
    {
     "name": "stdout",
     "output_type": "stream",
     "text": [
      "33785\n"
     ]
    }
   ],
   "source": [
    "ind = response_test.find('USD')\n",
    "print(ind)"
   ]
  },
  {
   "cell_type": "code",
   "execution_count": 215,
   "metadata": {
    "ExecuteTime": {
     "end_time": "2017-11-17T19:51:22.235287Z",
     "start_time": "2017-11-17T19:51:22.231592Z"
    },
    "scrolled": true
   },
   "outputs": [
    {
     "data": {
      "text/plain": [
       "-1"
      ]
     },
     "execution_count": 215,
     "metadata": {},
     "output_type": "execute_result"
    }
   ],
   "source": [
    "response_test.find('USD MOEX')"
   ]
  },
  {
   "cell_type": "code",
   "execution_count": 219,
   "metadata": {},
   "outputs": [
    {
     "data": {
      "text/plain": [
       "'dy></html>'"
      ]
     },
     "execution_count": 219,
     "metadata": {},
     "output_type": "execute_result"
    }
   ],
   "source": [
    "response_test[-10:]"
   ]
  },
  {
   "cell_type": "code",
   "execution_count": 12,
   "metadata": {
    "ExecuteTime": {
     "end_time": "2017-11-18T09:59:03.166906Z",
     "start_time": "2017-11-18T09:59:00.526786Z"
    }
   },
   "outputs": [
    {
     "name": "stdout",
     "output_type": "stream",
     "text": [
      "401\n",
      "application/json; charset=utf-8\n",
      "utf-8\n",
      "{\"message\":\"Bad credentials\",\"documentation_url\":\"https://developer.github.com/v3\"}\n"
     ]
    }
   ],
   "source": [
    "response = requests.get('https://api.github.com/user', \n",
    "                        auth=('denikekate', 'pass'))\n",
    "print(response.status_code)\n",
    "print(response.headers['content-type'])\n",
    "print(response.encoding)\n",
    "print(response.text)"
   ]
  },
  {
   "cell_type": "code",
   "execution_count": null,
   "metadata": {
    "collapsed": true
   },
   "outputs": [],
   "source": [
    "# BeautifulSoup"
   ]
  },
  {
   "cell_type": "code",
   "execution_count": 14,
   "metadata": {
    "collapsed": true
   },
   "outputs": [],
   "source": []
  },
  {
   "cell_type": "code",
   "execution_count": 235,
   "metadata": {},
   "outputs": [],
   "source": [
    "ind = response_test.find('.jpg')"
   ]
  },
  {
   "cell_type": "code",
   "execution_count": 244,
   "metadata": {},
   "outputs": [],
   "source": [
    "#response.text[ind - 1650:ind+20]"
   ]
  },
  {
   "cell_type": "code",
   "execution_count": 239,
   "metadata": {},
   "outputs": [],
   "source": [
    "#els[:10]"
   ]
  },
  {
   "cell_type": "code",
   "execution_count": 27,
   "metadata": {},
   "outputs": [
    {
     "data": {
      "text/plain": [
       "'https:/'"
      ]
     },
     "execution_count": 27,
     "metadata": {},
     "output_type": "execute_result"
    }
   ],
   "source": [
    "'https://sss.jpg'[:7]"
   ]
  },
  {
   "cell_type": "markdown",
   "metadata": {},
   "source": [
    "### key points\n",
    "\n",
    "* модуль requests\n",
    "* скачивание в переменную содержимого веб-страницы\n",
    "* просмотр html-кода странице в браузере\n",
    "* обработка и поиск нужной информации страницы с помощью изученных методов работы со строками\n"
   ]
  },
  {
   "cell_type": "markdown",
   "metadata": {
    "ExecuteTime": {
     "end_time": "2017-11-17T22:57:31.873089Z",
     "start_time": "2017-11-17T22:57:31.870686Z"
    }
   },
   "source": [
    "## Скачивание изображений"
   ]
  },
  {
   "cell_type": "code",
   "execution_count": 12,
   "metadata": {
    "ExecuteTime": {
     "end_time": "2017-11-18T10:05:33.516805Z",
     "start_time": "2017-11-18T10:05:31.513673Z"
    },
    "collapsed": true
   },
   "outputs": [],
   "source": [
    "url = 'https://avatars.mds.yandex.net/get-banana/26007/x25RcU6xfkEuNxJWMvVWTqj9_banana_20161021_teaser4-13.png/optimize'\n",
    "response = requests.get(url)\n",
    "with open('img.png', 'wb') as out_file:\n",
    "    out_file.write(response.content)\n",
    "del response"
   ]
  },
  {
   "cell_type": "markdown",
   "metadata": {
    "ExecuteTime": {
     "end_time": "2017-11-17T19:50:46.383024Z",
     "start_time": "2017-11-17T19:50:46.378586Z"
    }
   },
   "source": [
    "## Практика:\n",
    "\n",
    "(3 балла) Найдите почту курса!\n",
    "Загрузите html wiki нашего курса -> разбейте на слова -> для каждого слова проверьте, есть ли в нем символ \"@\". Если есть - это и есть почта курса.\n",
    "\n",
    "https://github.com/magnitofonov/hse-econ-data-analysis-course\n"
   ]
  },
  {
   "cell_type": "code",
   "execution_count": null,
   "metadata": {
    "collapsed": true
   },
   "outputs": [],
   "source": [
    "# такую функцию, чтобы после выполнения команды\n",
    "answer = function('https://github.com/magnitofonov/hse-econ-data-analysis-course')\n",
    "# выражение ниже было истинным\n",
    "answer == 'hse.ec.webmining@gmail.com'"
   ]
  },
  {
   "cell_type": "code",
   "execution_count": 25,
   "metadata": {},
   "outputs": [],
   "source": [
    "url = 'http://hpmor.ru/files/hpmor_ru.html'\n",
    "response = requests.get(url)"
   ]
  },
  {
   "cell_type": "code",
   "execution_count": 22,
   "metadata": {},
   "outputs": [],
   "source": [
    "response.encoding = 'ISO-8859-1'"
   ]
  },
  {
   "cell_type": "code",
   "execution_count": 26,
   "metadata": {},
   "outputs": [],
   "source": [
    "response.encoding = 'utf-16'"
   ]
  },
  {
   "cell_type": "code",
   "execution_count": 27,
   "metadata": {},
   "outputs": [
    {
     "name": "stdout",
     "output_type": "stream",
     "text": [
      "<!DOCTYPE html PUBLIC \"-//W3C//DTD XHTML 1.0 Transitional//EN\" \"http://www.w3.org/TR/xhtml1/DTD/xhtml1-transitional.dtd\">\r\n",
      "<html xmlns=\"http://www.w3.org/1999/xhtml\" lang=\"russian\" xml:lang=\"russian\">\r\n",
      "<head>\r\n",
      "  <meta http-equiv=\"Content-Type\" content=\"text/html; charset=utf-8\" />\r\n",
      "  <meta http-equiv=\"Content-Style-Type\" content=\"text/css\" />\r\n",
      "  <meta name=\"generator\" content=\"pandoc\" />\r\n",
      "  <title>Гарри Поттер и методы рационального мышления</title>\r\n",
      "  <style type=\"text/css\">code{white-space: pre;}</style>\r\n",
      "  <link href=\"data:text/css,html%20%7B%20font%2Dsize%3A%20100%25%3B%20overflow%2Dy%3A%20scroll%3B%20%2Dwebkit%2Dtext%2Dsize%2Dadjust%3A%20100%25%3B%20%2Dms%2Dtext%2Dsize%2Dadjust%3A%20100%25%3B%20%7D%0A%0Abody%7B%0A%20%20color%3A%23444%3B%0A%20%20font%2Dfamily%3AGeorgia%2C%20Palatino%2C%20%27Palatino%20Linotype%27%2C%20Times%2C%20%27Times%20New%20Roman%27%2C%0A%20%20%20%20%20%20%20%20%20%20%20%20%20%20%22Hiragino%20Sans%20GB%22%2C%20%22STXihei%22%2C%20%22%E5%BE%AE%E8%BD%AF%E9%9B%85%E9%BB%91%22%2C%20serif%3B%0A%20%20font%2Dsize%3A12px%3B%0A%20%20line%2Dheight%3A1%2E5em%3B%0A%20%20background%3A%23fefefe%3B%0A%20%20width%3A%2045em%3B%0A%20%20margin%3A%2010px%20auto%3B%0A%20%20padding%3A%201em%3B%0A%20%20outline%3A%201300px%20solid%20%23FAFAFA%3B%0A%7D%0A%0Aa%7B%20color%3A%20%230645ad%3B%20text%2Ddecoration%3Anone%3B%7D%0Aa%3Avisited%7B%20color%3A%20%230b0080%3B%20%7D%0Aa%3Ahover%7B%20color%3A%20%2306e%3B%20%7D%0Aa%3Aactive%7B%20color%3A%23faa700%3B%20%7D%0Aa%3Afocus%7B%20outline%3A%20thin%20dotted%3B%20%7D%0Aa%3Ahover%2C%20a%3Aactive%7B%20outline%3A%200%3B%20%7D%0A%0Aspan%2Ebacktick%20%7B%0A%20%20border%3A1px%20solid%20%23EAEAEA%3B%0A%20%20border%2Dradius%3A3px%3B%0A%20%20background%3A%23F8F8F8%3B%0A%20%20padding%3A0%203px%200%203px%3B%0A%7D%0A%0A%3A%3A%2Dmoz%2Dselection%7Bbackground%3Argba%28255%2C255%2C0%2C0%2E3%29%3Bcolor%3A%23000%7D%0A%3A%3Aselection%7Bbackground%3Argba%28255%2C255%2C0%2C0%2E3%29%3Bcolor%3A%23000%7D%0A%0Aa%3A%3A%2Dmoz%2Dselection%7Bbackground%3Argba%28255%2C255%2C0%2C0%2E3%29%3Bcolor%3A%230645ad%7D%0Aa%3A%3Aselection%7Bbackground%3Argba%28255%2C255%2C0%2C0%2E3%29%3Bcolor%3A%230645ad%7D%0A%0Ap%7B%0Amargin%3A1em%200%3B%0A%7D%0A%0Aimg%7B%0Amax%2Dwidth%3A100%25%3B%0A%7D%0A%0Ah1%2Ch2%2Ch3%2Ch4%2Ch5%2Ch6%7B%0Afont%2Dweight%3Anormal%3B%0Acolor%3A%23111%3B%0Aline%2Dheight%3A1em%3B%0A%7D%0Ah4%2Ch5%2Ch6%7B%20font%2Dweight%3A%20bold%3B%20%7D%0Ah1%7B%20font%2Dsize%3A2%2E5em%3B%20%7D%0Ah2%7B%20font%2Dsize%3A2em%3B%20border%2Dbottom%3A1px%20solid%20silver%3B%20padding%2Dbottom%3A%205px%3B%20%7D%0Ah3%7B%20font%2Dsize%3A1%2E5em%3B%20%7D%0Ah4%7B%20font%2Dsize%3A1%2E2em%3B%20%7D%0Ah5%7B%20font%2Dsize%3A1em%3B%20%7D%0Ah6%7B%20font%2Dsize%3A0%2E9em%3B%20%7D%0A%0Ablockquote%7B%0Acolor%3A%23666666%3B%0Amargin%3A0%3B%0Apadding%2Dleft%3A%203em%3B%0Aborder%2Dleft%3A%200%2E5em%20%23EEE%20solid%3B%0A%7D%0Ahr%20%7B%20display%3A%20block%3B%20height%3A%202px%3B%20border%3A%200%3B%20border%2Dtop%3A%201px%20solid%20%23aaa%3Bborder%2Dbottom%3A%201px%20solid%20%23eee%3B%20margin%3A%201em%200%3B%20padding%3A%200%3B%20%7D%0A%0A%0Apre%20%2C%20code%2C%20kbd%2C%20samp%20%7B%20%0A%20%20color%3A%20%23000%3B%20%0A%20%20font%2Dfamily%3A%20monospace%3B%20%0A%20%20font%2Dsize%3A%200%2E88em%3B%20%0A%20%20border%2Dradius%3A3px%3B%0A%20%20background%2Dcolor%3A%20%23F8F8F8%3B%0A%20%20border%3A%201px%20solid%20%23CCC%3B%20%0A%7D%0Apre%20%7B%20white%2Dspace%3A%20pre%3B%20white%2Dspace%3A%20pre%2Dwrap%3B%20word%2Dwrap%3A%20break%2Dword%3B%20padding%3A%205px%2012px%3B%7D%0Apre%20code%20%7B%20border%3A%200px%20%21important%3B%20padding%3A%200%3B%7D%0Acode%20%7B%20padding%3A%200%203px%200%203px%3B%20%7D%0A%0Ab%2C%20strong%20%7B%20font%2Dweight%3A%20bold%3B%20%7D%0A%0Adfn%20%7B%20font%2Dstyle%3A%20italic%3B%20%7D%0A%0Ains%20%7B%20background%3A%20%23ff9%3B%20color%3A%20%23000%3B%20text%2Ddecoration%3A%20none%3B%20%7D%0A%0Amark%20%7B%20background%3A%20%23ff0%3B%20color%3A%20%23000%3B%20font%2Dstyle%3A%20italic%3B%20font%2Dweight%3A%20bold%3B%20%7D%0A%0Asub%2C%20sup%20%7B%20font%2Dsize%3A%2075%25%3B%20line%2Dheight%3A%200%3B%20position%3A%20relative%3B%20vertical%2Dalign%3A%20baseline%3B%20%7D%0Asup%20%7B%20top%3A%20%2D0%2E5em%3B%20%7D%0Asub%20%7B%20bottom%3A%20%2D0%2E25em%3B%20%7D%0A%0Aul%2C%20ol%20%7B%20margin%3A%201em%200%3B%20padding%3A%200%200%200%202em%3B%20%7D%0Ali%20p%3Alast%2Dchild%20%7B%20margin%3A0%20%7D%0Add%20%7B%20margin%3A%200%200%200%202em%3B%20%7D%0A%0Aimg%20%7B%20border%3A%200%3B%20%2Dms%2Dinterpolation%2Dmode%3A%20bicubic%3B%20vertical%2Dalign%3A%20middle%3B%20%7D%0A%0Atable%20%7B%20border%2Dcollapse%3A%20collapse%3B%20border%2Dspacing%3A%200%3B%20%7D%0Atd%20%7B%20vertical%2Dalign%3A%20top%3B%20%7D%0A%0A%40media%20only%20screen%20and%20%28min%2Dwidth%3A%20480px%29%20%7B%0Abody%7Bfont%2Dsize%3A14px%3B%7D%0A%7D%0A%0A%40media%20only%20screen%20and%20%28min%2Dwidth%3A%20768px%29%20%7B%0Abody%7Bfont%2Dsize%3A16px%3B%7D%0A%7D%0A%0A%40media%20print%20%7B%0A%20%20%2A%20%7B%20background%3A%20transparent%20%21important%3B%20color%3A%20black%20%21important%3B%20filter%3Anone%20%21important%3B%20%2Dms%2Dfilter%3A%20none%20%21important%3B%20%7D%0A%20%20body%7Bfont%2Dsize%3A12pt%3B%20max%2Dwidth%3A100%25%3B%20outline%3Anone%3B%7D%0A%20%20a%2C%20a%3Avisited%20%7B%20text%2Ddecoration%3A%20underline%3B%20%7D%0A%20%20hr%20%7B%20height%3A%201px%3B%20border%3A0%3B%20border%2Dbottom%3A1px%20solid%20black%3B%20%7D%0A%20%20a%5Bhref%5D%3Aafter%20%7B%20content%3A%20%22%20%28%22%20attr%28href%29%20%22%29%22%3B%20%7D%0A%20%20abbr%5Btitle%5D%3Aafter%20%7B%20content%3A%20%22%20%28%22%20attr%28title%29%20%22%29%22%3B%20%7D%0A%20%20%2Eir%20a%3Aafter%2C%20a%5Bhref%5E%3D%22javascript%3A%22%5D%3Aafter%2C%20a%5Bhref%5E%3D%22%23%22%5D%3Aafter%20%7B%20content%3A%20%22%22%3B%20%7D%0A%20%20pre%2C%20blockquote%20%7B%20border%3A%201px%20solid%20%23999%3B%20padding%2Dright%3A%201em%3B%20page%2Dbreak%2Dinside%3A%20avoid%3B%20%7D%0A%20%20tr%2C%20img%20%7B%20page%2Dbreak%2Dinside%3A%20avoid%3B%20%7D%0A%20%20img%20%7B%20max%2Dwidth%3A%20100%25%20%21important%3B%20%7D%0A%20%20%40page%20%3Aleft%20%7B%20margin%3A%2015mm%2020mm%2015mm%2010mm%3B%20%7D%0A%20%20%40page%20%3Aright%20%7B%20margin%3A%2015mm%2010mm%2015mm%2020mm%3B%20%7D%0A%20%20p%2C%20h2%2C%20h3%20%7B%20orphans%3A%203%3B%20widows%3A%203%3B%20%7D%0A%20%20h2%2C%20h3%20%7B%20page%2Dbreak%2Dafter%3A%20avoid%3B%20%7D%0A%7D%0A\" rel=\"stylesheet\" type=\"text/css\" />\r\n",
      "</head>\r\n",
      "<body>\r\n",
      "<div id=\"header\">\r\n",
      "<h1 class=\"title\">Гарри Поттер и методы рационального мышления</h1>\r\n",
      "</div>\r\n",
      "<p>Мы рады представить вам электронную версию этой замечательной книги.</p>\r\n",
      "<p>Опубликовано на «Гарри Поттер и Методы рационального мышления» <a href=\"http://hpmor.ru/\">http://hpmor.ru/</a>.</p>\r\n",
      "<h2 id=\"глава-1.-крайне-маловероятный-день\">Глава 1. Крайне маловероятный день</h2>\r\n",
      "<p><em>Отказ от прав:</em> Гарри Поттер принадлежит Дж. К. Роулинг, методы рационального мышления не принадлежат никому.</p>\r\n",
      "<p><em>Примечания автора:</em> У этого фанфика довольно неспешное начало, и первые 5 глав — всего лишь вступление, но если вы дочитали до 10 главы и он вам всё ещё не нравится — бросайте.</p>\r\n",
      "<p>Нельзя сказать, что события в этом фанфике отличаются от канона из-за того, что в какой-то один момент всё пошло по-другому. И хотя где-то в прошлом существует основная точка расхождения, она не единственная. Правильнее считать, что дело происходит в параллельной вселенной.</p>\r\n",
      "<p>В тексте присутствует множество подсказок: некоторые очевидные, а некоторые — не очень. Есть старательно спрятанные намёки — я был потрясён, когда увидел, что некоторые читатели их разглядели. А многие свидетельства лежат прямо на виду. Это рационалистская история, все её загадки можно разгадать. Для этого они и предназначены.</p>\r\n",
      "<p>Все научные факты, упомянутые в тексте, — настоящие научные факты. Но, пожалуйста, не забывайте: когда речь не идёт о царстве науки, взгляды персонажей могут отличаться от авторских. Не всякое действие протагониста представляет из себя урок мудрости, а тёмные персонажи могут давать советы, которым либо нельзя доверять, либо они являются палкой о двух концах.</p>\r\n",
      "<p>* * *</p>\r\n",
      "<p><em>В лунном свете блестит полоска серебра…</em></p>\r\n",
      "<p><em>(падают тёмные одежды)</em></p>\r\n",
      "<p><em>…кровь льётся литрами, и слышен крик.</em></p>\r\n",
      "<p>Все стены до последнего дюйма заняты книжными шкафами. B каждом шкафу по шесть полок, которые доходят почти до потолка. Некоторые полки плотно заставлены книгами в твёрдом переплёте: математика, химия, история и так далее. На других полках в два ряда стоит научная фантастика в мягкой обложке. Под второй ряд книг подложены коробки и деревянные бруски так, что он возвышается над первым и можно прочитать названия стоящих в нём книг. Но и это не всё: книги перебираются на столы и диваны, образуют небольшие стопки под окнами.</p>\r\n",
      "<p>Так выглядит гостиная дома, в котором живут известный профессор Майкл Веррес-Эванс и его жена, миссис Петуния Эванс-Веррес, а также их приёмный сын, Гарри Джеймс Поттер-Эванс-Веррес.</p>\r\n",
      "<p>На столе в гостиной лежит письмо, а рядом с ним — желтоватый пергаментный конверт без марки. На конверте изумрудно-зелёными чернилами написано, что письмо адресовано «мистеру Г. Поттеру»<em>.</em></p>\r\n",
      "<p>Профессор спорит с женой, не повышая голос, так как считает, что кричать — некультурно.</p>\r\n",
      "<p>— Это ведь шутка, да? — по тону Майкла можно было понять: он весьма опасается, что жена говорит серьёзно.</p>\r\n",
      "<p>— Моя сестра была ведьмой, — нервно, но настойчиво повторила Петуния. — А её муж — волшебником.</p>\r\n",
      "<p>— Это абсурд! — отчеканил Майкл. — Они же были на нашей свадьбе, они приезжали на Рождество…</p>\r\n",
      "<p>— Я просила их ничего тебе не рассказывать, — прошептала Петуния, — но это чистая правда, я сама видела…</p>\r\n",
      "<p>Профессор закатил глаза:</p>\r\n",
      "<p>— Дорогая, я знаю, ты не читаешь скептическую литературу и можешь не понимать, как легко для искусного фокусника делать невозможные на первый взгляд вещи. Помнишь, я учил Гарри гнуть ложки? И если вдруг тебе казалось, что твоя сестра и её муж угадывали твои мысли, то такой приём называется «холодное чтение».</p>\r\n",
      "<p>— Это было не сгибание ложек.</p>\r\n",
      "<p>— А что?</p>\r\n",
      "<p>Петуния прикусила губу.</p>\r\n",
      "<p>— Так просто не рассказать. Ты подумаешь, что я… — она сглотнула. — Послушай, Майкл, я не всегда была… такой, — она махнула рукой вниз, обозначая точёную фигуру. — Лили изменила мою внешность. Потому что я… я буквально умоляла её. Долгие годы я умоляла. Всё детство я плохо к ней относилась, потому что она всегда, всегда была красивее меня, а потом у неё проявился магический дар. Можешь представить, как я себя чувствовала? Я годами умоляла её сделать меня красивой. Пусть у меня не будет магии, но будет хотя бы красота.</p>\r\n",
      "<p>В глазах Петунии стояли слёзы:</p>\r\n",
      "<p>— Лили отказывала мне по разным нелепым причинам, говорила, будто наступит конец света, если она немного поможет родной сестре, или что кентавр запретил ей это делать, и тому подобную чепуху, и я её за это ненавидела. А сразу после университета я встречалась с этим Верноном Дурслем, он был толстый, но кроме него никто из парней со мной вообще не разговаривал. Он говорил, что хочет детей и чтобы первенца звали Дадли. Я тогда подумала: «Какие же родители назовут своего ребёнка Дадли Дурсль?» И тут вся моя будущая жизнь словно встала у меня перед глазами, и это было невыносимо. Я написала сестре, что, если она мне не поможет, то я…</p>\r\n",
      "<p>Петуния запнулась и тихо продолжила:</p>\r\n",
      "<p>— В конце концов она сдалась. Она говорила, что это опасно, но мне было наплевать. Я выпила зелье и тяжело болела две недели. Зато потом моя кожа стала чистой, фигура похорошела и… Я стала красивой, люди начали относиться ко мне добрее, — её голос сорвался. — После этого я больше не могла ненавидеть сестру, особенно когда узнала, к чему в итоге привела её эта магия.</p>\r\n",
      "<p>— Дорогая, — нежно ответил Майкл, — ты заболела, набрала правильный вес, пока лежала в кровати, а кожа стала лучше сама по себе. Или болезнь заставила тебя изменить рацион.</p>\r\n",
      "<p>— Она была ведьмой, — настаивала Петуния. — Я видела, как она творила чудеса.</p>\r\n",
      "<p>— Петуния, — в голосе Майкла появилось раздражение, — ты же знаешь, что это не может быть правдой. Мне точно нужно объяснять почему?</p>\r\n",
      "<p>Петуния всплеснула руками. Она почти плакала.</p>\r\n",
      "<p>— Милый, я всегда проигрываю тебе в споре, но, пожалуйста, поверь мне сейчас…</p>\r\n",
      "<p><em>—</em> Папа! Мама!</p>\r\n",
      "<p>Они замолчали и оглянулись на Гарри, который, оказывается, тоже был в гостиной всё это время.</p>\r\n",
      "<p>Мальчик сделал глубокий вдох.</p>\r\n",
      "<p>— Мама, насколько я понимаю, у твоих родителей не было магических способностей?</p>\r\n",
      "<p>— Нет, — Петуния озадаченно посмотрела на него.</p>\r\n",
      "<p>— Получается, что никто из членов вашей семьи не знал о магии, пока Лили не получила пригласительное письмо. Каким образом убедили их?</p>\r\n",
      "<p>— Тогда было не только письмо. К нам приходил профессор из Хогвартса. Он… — Петуния бросила взгляд в сторону Майкла, — он показал нам несколько заклинаний.</p>\r\n",
      "<p>— Значит, спорить по этому поводу совершенно ни к чему, — твёрдо заключил Гарри. Впрочем, надежды, что хотя бы сейчас родители к нему прислушаются, было мало. — Если всё это правда, то мы можем просто пригласить профессора из Хогвартса. Если он продемонстрирует нам магию, то папе придётся признать, что она существует. А если нет, то мама согласится, что всё это выдумка. Нужно не ссориться, а провести эксперимент.</p>\r\n",
      "<p>Профессор повернулся и, как всегда снисходительно, посмотрел на него сверху вниз:</p>\r\n",
      "<p>— Гарри? Магия? В самом деле? Я думал, уж ты-то знаешь достаточно, чтобы не воспринимать её всерьёз, хоть тебе и десять лет. Сынок, магия — самая ненаучная вещь, которую только можно себе представить!</p>\r\n",
      "<p>Гарри кисло улыбнулся. Майкл относился к нему хорошо — вероятно, лучше, чем большинство родных отцов относятся к своим детям. Гарри отправляли учиться в лучшие школы, а когда с ними ничего не вышло, ему стали нанимать частных преподавателей из бесконечной вереницы голодающих студентов. Родители всегда поддерживали Гарри в изучении всего, что только привлекало его внимание. Ему покупали все интересующие его книги, помогали с участием в различных конкурсах по математике и естественно-научным предметам. Он получал практически всё, что хотел, в разумных пределах. Единственное, в чём ему отказывали, так это в малейшей доле уважения. Впрочем, с какой стати штатному профессору Оксфорда, преподающему биохимию, прислушиваться к советам маленького мальчика? Он, конечно, «проявит заинтересованность», ведь так положено поступать «хорошему родителю», к каковым профессор, несомненно, себя относил. Но воспринимать десятилетнего ребёнка всерьёз? Вряд ли.</p>\r\n",
      "<p>Иногда Гарри хотелось накричать на отца.</p>\r\n",
      "<p>— Мам, — сказал он, — если ты хочешь выиграть у папы этот спор, посмотри вторую главу из первого тома лекций Фейнмана по физике. Там есть цитата, в которой говорится, что философы тратят уйму слов, выясняя, без чего наука не может обойтись, и все они неправы, потому что в науке есть только одно правило: последний судья — это наблюдение. Нужно просто посмотреть на мир и рассказать о том, что ты видишь. И… я не могу вспомнить с ходу подходящую цитату, но с научной точки зрения решать разногласия нужно опытным путём, а не спорами.</p>\r\n",
      "<p>Мать посмотрела на него сверху вниз и улыбнулась:</p>\r\n",
      "<p>— Спасибо, Гарри, но… — она с достоинством взглянула на мужа, — я не хочу выигрывать спор у твоего отца. Я лишь хочу, чтобы мой муж прислушался к любящей его жене и поверил ей.</p>\r\n",
      "<p>Гарри на секунду закрыл глаза. Безнадёжны. Его родители просто безнадёжны.</p>\r\n",
      "<p>Разговор опять превращался в один из тех самых бессмысленных споров, когда мать пытается заставить отца почувствовать себя виноватым, а тот, в свою очередь, пытается заставить её почувствовать себя глупой.</p>\r\n",
      "<p>— Я пойду в свою комнату, — немного дрожащим голосом объявил Гарри. — Мама, папа, пожалуйста, постарайтесь долго не ругаться. Мы ведь и так скоро всё узнаем.</p>\r\n",
      "<p>— Конечно, Гарри, — отозвался отец, а мать обнадёживающе его поцеловала, после чего родители продолжили пререкаться.</p>\r\n",
      "<p>Гарри поднялся по лестнице в свою спальню, закрыл за собой дверь и попытался всё обдумать.</p>\r\n",
      "<p>Самое интересное, что он просто должен был согласиться с отцом. Никто и никогда не видел ни одного доказательства реальности магии, а из слов мамы следовало, что существует целый волшебный мир. Как можно такое сохранять в тайне? Тоже с помощью магии? Довольно сомнительное объяснение.</p>\r\n",
      "<p>Случай по идее элементарный: мама либо шутит, либо лжёт, либо сошла с ума, в порядке возрастания ужасности. Если мама сама отправила письмо, то это объясняет, как оно попало в почтовый ящик без марки. В конце концов, небольшое сумасшествие гораздо, гораздо более вероятно, чем вселенная, содержащая в себе магию.</p>\r\n",
      "<p>Но всё-таки какая-то часть Гарри была совершенно уверена в том, что магия существует. Это чувство возникло в тот самый момент, когда он увидел письмо предположительно из Хогвартса, Школы Чародейства и Волшебства.</p>\r\n",
      "<p>Скривившись, Гарри потёр лоб. «Не верь своим мыслям», было написано в одной книге.</p>\r\n",
      "<p>Но эта странная убеждённость… Он как будто знал заранее, что профессор из Хогвартса в самом деле появится на их пороге, взмахнёт палочкой и сотворит настоящее волшебство. Эта убеждённость не боялась опровержения: не искала заранее оправданий на случай, если вдруг никакой профессор не придёт или придёт, но сможет показать лишь фокус со сгибанием ложек.</p>\r\n",
      "<p><em>Откуда ты взялось, странное маленькое предчувствие?</em> — Гарри крепко задумался. — <em>Почему я верю в то, во что я верю?</em></p>\r\n",
      "<p>Обычно он довольно быстро справлялся с этим вопросом, но сейчас у него не было никакой зацепки.</p>\r\n",
      "<p>Гарри мысленно пожал плечами. Двери созданы, чтобы их открывать, а гипотезы — чтобы их проверять.</p>\r\n",
      "<p>Он взял со стола лист линованной бумаги и написал: «Заместителю директора».</p>\r\n",
      "<p>Гарри остановился, собираясь с мыслями, потом взял другой лист и выдавил ещё один миллиметр графита из механического карандаша — случай требовал каллиграфического почерка.</p>\r\n",
      "<p>«Уважаемая заместитель директора Минерва МакГонагалл или другое уполномоченное лицо.<br />Недавно я получил от Вас пригласительное письмо в Хогвартс на имя мистера Г. Поттера. Вы можете не знать, что мои биологические родители, Джеймс Поттер и Лили Поттер (в девичестве Лили Эванс), мертвы. Я был усыновлён сестрой Лили, Петунией Эванс-Веррес, и её мужем, Майклом Веррес-Эвансом.<br />Я крайне заинтересован в посещении Хогвартса, при условии, что такое место на самом деле существует. Моя мать, Петуния, утверждает, что знает про магию, но сама ею пользоваться не способна. Мой отец настроен скептически. Сам я до конца не убеждён. К тому же я не знаю, где приобрести книги и материалы, указанные Вами в пригласительном письме.<br />Мама упомянула, что Вы присылали представителя Хогвартса к Лили Поттер (бывшая Лили Эванс), чтобы продемонстрировать её семье существование магии и, я полагаю, чтобы помочь ей с приобретением школьных принадлежностей. Если Вы поступите подобным образом в отношении моей семьи, это существенно поможет делу.<br />С уважением,<br />Гарри Джеймс Поттер-Эванс-Веррес».</p>\r\n",
      "<p>Гарри дописал свой адрес, сложил письмо пополам и засунул в конверт, адресовав его в Хогвартс. После чего, поразмыслив, взял свечку и, капнув воском на угол конверта, выдавил на нём кончиком перочинного ножа свои инициалы: Г.Д.П.Э.В. Сходить с ума — так со вкусом.</p>\r\n",
      "<p>Затем он открыл дверь и спустился вниз по лестнице. Его отец сидел в гостиной и читал книгу по высшей математике, чтобы показать, какой он умный муж, а мама готовила на кухне одно из любимых блюд отца, чтобы показать, какая она любящая жена. Похоже, они не разговаривали друг с другом. Споры могут быть ужасны, но почему-то молчание иногда ещё хуже.</p>\r\n",
      "<p>— Мама, — подал голос Гарри, — я хочу проверить гипотезу. Каким образом, согласно твоей теории, я должен послать сову в Хогвартс?</p>\r\n",
      "<p>Мать отвернулась от кухонной раковины и озадаченно посмотрела на него.</p>\r\n",
      "<p>— Я… Я не знаю. Думаю, для этого у тебя должна быть волшебная сова.</p>\r\n",
      "<p>Он должен был с подозрением в голосе сказать: «Ага, выходит, проверить твою теорию никак нельзя», но странная уверенность не желала сдаваться.</p>\r\n",
      "<p>— Письмо каким-то образом сюда попало, — рассудил Гарри, — так что я просто помашу им на улице и крикну: «Письмо в Хогвартс!» Посмотрим, прилетит ли сова, чтобы забрать его. Папа, ты хочешь пойти со мной?</p>\r\n",
      "<p>Отец отрицательно покачал головой и продолжил чтение.</p>\r\n",
      "<p><em>Конечно</em>, — подумал Гарри. — <em>Магия — это ерунда, в которую верят только глупцы. Если отец начнёт проверять гипотезу или даже просто будет наблюдать за ходом проверки, то это будет выглядеть так, как будто он допускает вероятность её существования…</em></p>\r\n",
      "<p>Выходя через заднюю дверь во двор, Гарри вдруг осознал, что если сова в самом деле прилетит и заберёт письмо, то он не сможет доказать это отцу.</p>\r\n",
      "<p><em>Но ведь этого же на самом деле произойти не может, так? Что бы там ни твердил мой мозг. А если сова действительно спустится с небес и схватит конверт, то у меня будут заботы поважнее мнения папы на этот счёт.</em></p>\r\n",
      "<p>Гарри глубоко вздохнул и поднял конверт над головой.</p>\r\n",
      "<p>Сглотнул.</p>\r\n",
      "<p>Кричать «Письмо в Хогвартс!», размахивая конвертом, на заднем дворе своего дома оказалось вдруг весьма нелепым занятием.</p>\r\n",
      "<p><em>Нет, я не как папа. Я использую научный метод, даже если буду при этом глупо выглядеть.</em></p>\r\n",
      "<p>— Письмо… — начал было Гарри, но получился только какой-то невразумительный отрывистый шёпот.</p>\r\n",
      "<p>Тогда он собрался с духом и закричал в пустое небо:</p>\r\n",
      "<p>— Письмо в Хогвартс! Можно мне сову?!</p>\r\n",
      "<p>— Гарри? — произнёс почти над ухом озадаченный голос соседки.</p>\r\n",
      "<p>Гарри отдёрнул руку, словно обжёгся, и спрятал конверт за спину, как будто в нём была выручка от продажи наркотиков. Лицо запылало от смущения.</p>\r\n",
      "<p>Над соседским забором появилось женское лицо — растрёпанные седые космы торчали из-под сетки для волос. Это была миссис Фигг, которая временами за ним приглядывала.</p>\r\n",
      "<p>— Что ты тут делаешь, Гарри?</p>\r\n",
      "<p>— Ничего, — ответил он сдавленным голосом. — Просто… проверяю одну весьма глупую теорию…</p>\r\n",
      "<p>— Ты получил пригласительное письмо из Хогвартса?</p>\r\n",
      "<p>Гарри застыл на месте.</p>\r\n",
      "<p>— Да, — сказали его губы после короткой паузы, — я получил письмо из Хогвартса. Они написали, чтобы я отправил им ответ с совой до 31 июля, но…</p>\r\n",
      "<p>— Но у тебя нет совы. Бедный мальчик! Даже не представляю, о чём они думали, посылая тебе стандартное приглашение.</p>\r\n",
      "<p>Морщинистая рука с раскрытой ладонью высунулась из-за забора. С трудом понимая, что происходит, Гарри отдал конверт.</p>\r\n",
      "<p>— Я всё сделаю, дорогой, — сказала миссис Фигг, — мигом кого-нибудь приведу.</p>\r\n",
      "<p>И её лицо, торчавшее над забором, исчезло.</p>\r\n",
      "<p>Во дворе надолго воцарилась тишина, которую в конце концов нарушил тихий и спокойный голос мальчика:</p>\r\n",
      "<p>— Что?</p>\r\n",
      "<h2 id=\"глава-2.-всё-во-что-я-верю-ложь\">Глава 2. Всё, во что я верю — ложь</h2>\r\n",
      "<p>#include “стандартный_отказ_от_прав.h”</p>\r\n",
      "<p>* * *</p>\r\n",
      "<p><em>Конечно, это моя вина. Здесь больше некому нести за что-либо ответственность.</em></p>\r\n",
      "<p>— Давайте проясним ситуацию, — сказал Гарри, — папа, если профессор действительно поднимет тебя в воздух, причём ты будешь знать, что нет никаких скрытых верёвок, то это будет считаться достаточным доказательством существования магии. Ты не будешь отпираться и называть происходящее обычными фокусами. Так будет честно. Если подобная демонстрация уже сейчас кажется тебе недостаточной, то мы можем придумать другой эксперимент.</p>\r\n",
      "<p>Отец Гарри, профессор Майкл Веррес-Эванс, закатил глаза:</p>\r\n",
      "<p>— Да, Гарри.</p>\r\n",
      "<p>— Теперь ты, мама. Твоя теория заключается в том, что профессор сможет сделать это. Но если ничего не произойдёт, то ты признаешь, что ошибалась. И не будешь говорить, что магия не работает, когда люди настроены скептически, и тому подобное.</p>\r\n",
      "<p>Заместитель директора Минерва МакГонагалл с удивлением смотрела на Гарри. Одетая в чёрную мантию и остроконечную шляпу — она выглядела как настоящая ведьма, но разговаривала официальным тоном с шотландским акцентом, что совсем не вязалось с её внешним видом. На первый взгляд казалось, что она вот-вот разразится злобным хохотом и начнёт варить из младенцев жуткое зелье, но весь этот эффект испарялся, стоило ей открыть рот.</p>\r\n",
      "<p>— Так этого будет достаточно, мистер Поттер? — уточнила волшебница. — Можно начинать демонстрацию?</p>\r\n",
      "<p>— Достаточно? Скорее всего, нет, — ответил Гарри, — но это точно поможет. Начинайте, заместитель директора.</p>\r\n",
      "<p>— Можно просто «профессор», — сказала она. — <em>Вингардиум левиоса.</em></p>\r\n",
      "<p>Гарри посмотрел на отца.</p>\r\n",
      "<p>— Гм.</p>\r\n",
      "<p>Тот посмотрел на него и повторил эхом:</p>\r\n",
      "<p>— Гм.</p>\r\n",
      "<p>Затем профессор Веррес-Эванс перевёл взгляд на профессора МакГонагалл:</p>\r\n",
      "<p>— Ладно, можете опустить меня вниз.</p>\r\n",
      "<p>Майкл Веррес-Эванс медленно приземлился на пол.</p>\r\n",
      "<p>Гарри взъерошил волосы. Может, дело было в том, что какая-то его часть заранее знала результат, но…</p>\r\n",
      "<p>— Почему-то меня это не впечатлило, — сказал он. — Я думал, что моя реакция будет более др\n"
     ]
    }
   ],
   "source": [
    "print(response.text[:25200])"
   ]
  },
  {
   "cell_type": "markdown",
   "metadata": {
    "ExecuteTime": {
     "end_time": "2017-11-17T21:40:32.477933Z",
     "start_time": "2017-11-17T21:40:32.473946Z"
    }
   },
   "source": [
    "### Домашнее задание:\n",
    "\n",
    "1. (3 балла) Загрузите html книги \"Гарри Поттер и методы рационального мышления\" и сохраните в файл. Ссылка: http://hpmor.ru/files/hpmor_ru.html\n",
    "\n",
    "2. (4 балла) Прочтите файл из первого задания (или если не получилось - сохраните файл в браузере). Выведете top100 список слов по упоминаемости\n",
    "\n",
    "3. (4 балла) Скачайте все изображения с первой страницы  новостного сайта lenta.ru. Для этого получите html сайта lenta.ru , найдите все строчки, которые начинаются на \"http: и заканчиваются на .jpg\" . Для каждой такой строчки вызовите код для скачивания (названия у изображений можно брать 1.jpg, 2.jpg и т.д). \n"
   ]
  }
 ],
 "metadata": {
  "kernelspec": {
   "display_name": "Python 3",
   "language": "python",
   "name": "python3"
  },
  "language_info": {
   "codemirror_mode": {
    "name": "ipython",
    "version": 3
   },
   "file_extension": ".py",
   "mimetype": "text/x-python",
   "name": "python",
   "nbconvert_exporter": "python",
   "pygments_lexer": "ipython3",
   "version": "3.6.6"
  }
 },
 "nbformat": 4,
 "nbformat_minor": 2
}
